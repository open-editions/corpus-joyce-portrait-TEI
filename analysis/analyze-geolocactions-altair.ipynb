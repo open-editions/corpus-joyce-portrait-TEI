{
 "cells": [
  {
   "cell_type": "code",
   "execution_count": 1,
   "metadata": {},
   "outputs": [],
   "source": [
    "import altair as alt\n",
    "from bs4 import BeautifulSoup\n",
    "from vega_datasets import data\n",
    "import gpdvega\n",
    "import geopandas\n",
    "import json\n",
    "import shapely\n",
    "import re\n",
    "from matplotlib import pyplot as plt\n",
    "%matplotlib inline"
   ]
  },
  {
   "cell_type": "code",
   "execution_count": 2,
   "metadata": {},
   "outputs": [
    {
     "data": {
      "text/plain": [
       "RendererRegistry.enable('notebook')"
      ]
     },
     "execution_count": 2,
     "metadata": {},
     "output_type": "execute_result"
    }
   ],
   "source": [
    "alt.renderers.enable('notebook') # render for Jupyter Notebook"
   ]
  },
  {
   "cell_type": "markdown",
   "metadata": {},
   "source": [
    "# Extract locations from XML data"
   ]
  },
  {
   "cell_type": "code",
   "execution_count": 3,
   "metadata": {},
   "outputs": [],
   "source": [
    "portraitRaw = open('../portrait.xml').read()\n",
    "portraitSoup = BeautifulSoup(portraitRaw)\n",
    "geos = portraitSoup.find_all('geo')"
   ]
  },
  {
   "cell_type": "code",
   "execution_count": 4,
   "metadata": {},
   "outputs": [],
   "source": [
    "geotext = [item.text for item in geos]"
   ]
  },
  {
   "cell_type": "code",
   "execution_count": 5,
   "metadata": {},
   "outputs": [],
   "source": [
    "lineNos = [int(item.parent.parent.find_previous('lb').attrs['n']) for item in geos]"
   ]
  },
  {
   "cell_type": "code",
   "execution_count": 6,
   "metadata": {},
   "outputs": [],
   "source": [
    "points = [shapely.geometry.point.Point([float(x) for x in pt.strip().split()[-1::-1]]) for pt in geotext]"
   ]
  },
  {
   "cell_type": "code",
   "execution_count": 7,
   "metadata": {},
   "outputs": [],
   "source": [
    "def clean(text): \n",
    "    return re.sub('\\s+', ' ', text.strip().replace('\\n', ' '))"
   ]
  },
  {
   "cell_type": "code",
   "execution_count": 8,
   "metadata": {},
   "outputs": [],
   "source": [
    "names = [clean(item.parent.parent.find('placename').text.strip()) for item in geos]"
   ]
  },
  {
   "cell_type": "code",
   "execution_count": 9,
   "metadata": {},
   "outputs": [],
   "source": [
    "gdf = geopandas.GeoDataFrame({'name': names, 'lineNo': lineNos, 'geometry': points})"
   ]
  },
  {
   "cell_type": "code",
   "execution_count": 10,
   "metadata": {},
   "outputs": [
    {
     "data": {
      "text/html": [
       "<div>\n",
       "<style scoped>\n",
       "    .dataframe tbody tr th:only-of-type {\n",
       "        vertical-align: middle;\n",
       "    }\n",
       "\n",
       "    .dataframe tbody tr th {\n",
       "        vertical-align: top;\n",
       "    }\n",
       "\n",
       "    .dataframe thead th {\n",
       "        text-align: right;\n",
       "    }\n",
       "</style>\n",
       "<table border=\"1\" class=\"dataframe\">\n",
       "  <thead>\n",
       "    <tr style=\"text-align: right;\">\n",
       "      <th></th>\n",
       "      <th>name</th>\n",
       "      <th>lineNo</th>\n",
       "      <th>geometry</th>\n",
       "    </tr>\n",
       "  </thead>\n",
       "  <tbody>\n",
       "    <tr>\n",
       "      <th>0</th>\n",
       "      <td>Leicester Abbey</td>\n",
       "      <td>10112</td>\n",
       "      <td>POINT (-1.132563 52.640379)</td>\n",
       "    </tr>\n",
       "    <tr>\n",
       "      <th>1</th>\n",
       "      <td>Leicester Abbey</td>\n",
       "      <td>10116</td>\n",
       "      <td>POINT (-1.132563 52.640379)</td>\n",
       "    </tr>\n",
       "    <tr>\n",
       "      <th>2</th>\n",
       "      <td>Mozambique Channel</td>\n",
       "      <td>10132</td>\n",
       "      <td>POINT (41.280858 -18.615949)</td>\n",
       "    </tr>\n",
       "    <tr>\n",
       "      <th>3</th>\n",
       "      <td>the longest river in America</td>\n",
       "      <td>10133</td>\n",
       "      <td>POINT (-90.199404 38.627003)</td>\n",
       "    </tr>\n",
       "    <tr>\n",
       "      <th>4</th>\n",
       "      <td>Wicklow Hotel</td>\n",
       "      <td>10154</td>\n",
       "      <td>POINT (-6.260651 53.342872)</td>\n",
       "    </tr>\n",
       "  </tbody>\n",
       "</table>\n",
       "</div>"
      ],
      "text/plain": [
       "                           name  lineNo                      geometry\n",
       "0               Leicester Abbey   10112   POINT (-1.132563 52.640379)\n",
       "1               Leicester Abbey   10116   POINT (-1.132563 52.640379)\n",
       "2            Mozambique Channel   10132  POINT (41.280858 -18.615949)\n",
       "3  the longest river in America   10133  POINT (-90.199404 38.627003)\n",
       "4                 Wicklow Hotel   10154   POINT (-6.260651 53.342872)"
      ]
     },
     "execution_count": 10,
     "metadata": {},
     "output_type": "execute_result"
    }
   ],
   "source": [
    "gdf.head()"
   ]
  },
  {
   "cell_type": "markdown",
   "metadata": {},
   "source": [
    "# Use Natural Earth Land Vectors\n",
    "\n",
    "From: https://www.naturalearthdata.com/downloads/50m-physical-vectors/50m-land/"
   ]
  },
  {
   "cell_type": "code",
   "execution_count": 11,
   "metadata": {},
   "outputs": [],
   "source": [
    "gdf2 = geopandas.read_file('mapData/ne_50m_land.shp')"
   ]
  },
  {
   "cell_type": "code",
   "execution_count": 12,
   "metadata": {},
   "outputs": [
    {
     "data": {
      "text/html": [
       "<div>\n",
       "<style scoped>\n",
       "    .dataframe tbody tr th:only-of-type {\n",
       "        vertical-align: middle;\n",
       "    }\n",
       "\n",
       "    .dataframe tbody tr th {\n",
       "        vertical-align: top;\n",
       "    }\n",
       "\n",
       "    .dataframe thead th {\n",
       "        text-align: right;\n",
       "    }\n",
       "</style>\n",
       "<table border=\"1\" class=\"dataframe\">\n",
       "  <thead>\n",
       "    <tr style=\"text-align: right;\">\n",
       "      <th></th>\n",
       "      <th>name</th>\n",
       "      <th>lineNo</th>\n",
       "      <th>geometry</th>\n",
       "    </tr>\n",
       "  </thead>\n",
       "  <tbody>\n",
       "    <tr>\n",
       "      <th>0</th>\n",
       "      <td>Leicester Abbey</td>\n",
       "      <td>10112</td>\n",
       "      <td>POINT (-1.132563 52.640379)</td>\n",
       "    </tr>\n",
       "    <tr>\n",
       "      <th>1</th>\n",
       "      <td>Leicester Abbey</td>\n",
       "      <td>10116</td>\n",
       "      <td>POINT (-1.132563 52.640379)</td>\n",
       "    </tr>\n",
       "    <tr>\n",
       "      <th>2</th>\n",
       "      <td>Mozambique Channel</td>\n",
       "      <td>10132</td>\n",
       "      <td>POINT (41.280858 -18.615949)</td>\n",
       "    </tr>\n",
       "    <tr>\n",
       "      <th>3</th>\n",
       "      <td>the longest river in America</td>\n",
       "      <td>10133</td>\n",
       "      <td>POINT (-90.199404 38.627003)</td>\n",
       "    </tr>\n",
       "    <tr>\n",
       "      <th>4</th>\n",
       "      <td>Wicklow Hotel</td>\n",
       "      <td>10154</td>\n",
       "      <td>POINT (-6.260651 53.342872)</td>\n",
       "    </tr>\n",
       "  </tbody>\n",
       "</table>\n",
       "</div>"
      ],
      "text/plain": [
       "                           name  lineNo                      geometry\n",
       "0               Leicester Abbey   10112   POINT (-1.132563 52.640379)\n",
       "1               Leicester Abbey   10116   POINT (-1.132563 52.640379)\n",
       "2            Mozambique Channel   10132  POINT (41.280858 -18.615949)\n",
       "3  the longest river in America   10133  POINT (-90.199404 38.627003)\n",
       "4                 Wicklow Hotel   10154   POINT (-6.260651 53.342872)"
      ]
     },
     "execution_count": 12,
     "metadata": {},
     "output_type": "execute_result"
    }
   ],
   "source": [
    "gdf.head()"
   ]
  },
  {
   "cell_type": "code",
   "execution_count": 13,
   "metadata": {},
   "outputs": [
    {
     "data": {
      "text/html": [
       "<div>\n",
       "<style scoped>\n",
       "    .dataframe tbody tr th:only-of-type {\n",
       "        vertical-align: middle;\n",
       "    }\n",
       "\n",
       "    .dataframe tbody tr th {\n",
       "        vertical-align: top;\n",
       "    }\n",
       "\n",
       "    .dataframe thead th {\n",
       "        text-align: right;\n",
       "    }\n",
       "</style>\n",
       "<table border=\"1\" class=\"dataframe\">\n",
       "  <thead>\n",
       "    <tr style=\"text-align: right;\">\n",
       "      <th></th>\n",
       "      <th>scalerank</th>\n",
       "      <th>featurecla</th>\n",
       "      <th>min_zoom</th>\n",
       "      <th>geometry</th>\n",
       "    </tr>\n",
       "  </thead>\n",
       "  <tbody>\n",
       "    <tr>\n",
       "      <th>0</th>\n",
       "      <td>0</td>\n",
       "      <td>Land</td>\n",
       "      <td>1.5</td>\n",
       "      <td>POLYGON ((179.99921875 -16.16855468750001, 179...</td>\n",
       "    </tr>\n",
       "    <tr>\n",
       "      <th>1</th>\n",
       "      <td>0</td>\n",
       "      <td>Land</td>\n",
       "      <td>4.0</td>\n",
       "      <td>POLYGON ((177.2341796875 -17.14707031250001, 1...</td>\n",
       "    </tr>\n",
       "    <tr>\n",
       "      <th>2</th>\n",
       "      <td>0</td>\n",
       "      <td>Land</td>\n",
       "      <td>4.0</td>\n",
       "      <td>POLYGON ((127.37265625 0.7913085937499886, 127...</td>\n",
       "    </tr>\n",
       "    <tr>\n",
       "      <th>3</th>\n",
       "      <td>0</td>\n",
       "      <td>Land</td>\n",
       "      <td>3.0</td>\n",
       "      <td>POLYGON ((-81.33481445312499 24.65048828124999...</td>\n",
       "    </tr>\n",
       "    <tr>\n",
       "      <th>4</th>\n",
       "      <td>0</td>\n",
       "      <td>Land</td>\n",
       "      <td>4.0</td>\n",
       "      <td>POLYGON ((-80.82939453124999 24.803662109375, ...</td>\n",
       "    </tr>\n",
       "  </tbody>\n",
       "</table>\n",
       "</div>"
      ],
      "text/plain": [
       "   scalerank featurecla  min_zoom  \\\n",
       "0          0       Land       1.5   \n",
       "1          0       Land       4.0   \n",
       "2          0       Land       4.0   \n",
       "3          0       Land       3.0   \n",
       "4          0       Land       4.0   \n",
       "\n",
       "                                            geometry  \n",
       "0  POLYGON ((179.99921875 -16.16855468750001, 179...  \n",
       "1  POLYGON ((177.2341796875 -17.14707031250001, 1...  \n",
       "2  POLYGON ((127.37265625 0.7913085937499886, 127...  \n",
       "3  POLYGON ((-81.33481445312499 24.65048828124999...  \n",
       "4  POLYGON ((-80.82939453124999 24.803662109375, ...  "
      ]
     },
     "execution_count": 13,
     "metadata": {},
     "output_type": "execute_result"
    }
   ],
   "source": [
    "gdf2.head()"
   ]
  },
  {
   "cell_type": "markdown",
   "metadata": {},
   "source": [
    "# Apply Mercator projection"
   ]
  },
  {
   "cell_type": "code",
   "execution_count": 14,
   "metadata": {},
   "outputs": [],
   "source": [
    "gdf.crs = {'init': 'epsg:4326'}\n",
    "# gdf.crs = {'init': 'epsg:27700'}\n",
    "# gdf2.crs = {'init': 'epsg:27700'}"
   ]
  },
  {
   "cell_type": "code",
   "execution_count": 15,
   "metadata": {},
   "outputs": [
    {
     "data": {
      "text/plain": [
       "{'init': 'epsg:4326'}"
      ]
     },
     "execution_count": 15,
     "metadata": {},
     "output_type": "execute_result"
    }
   ],
   "source": [
    "gdf.crs"
   ]
  },
  {
   "cell_type": "code",
   "execution_count": 16,
   "metadata": {},
   "outputs": [],
   "source": [
    "mercator, britain, americas, web = (4326, 27700, 2163, 3857)\n",
    "#gdf = gdf.to_crs(epsg=web)\n"
   ]
  },
  {
   "cell_type": "code",
   "execution_count": 17,
   "metadata": {},
   "outputs": [
    {
     "data": {
      "text/plain": [
       "({'init': 'epsg:4326'}, {'init': 'epsg:4326'})"
      ]
     },
     "execution_count": 17,
     "metadata": {},
     "output_type": "execute_result"
    }
   ],
   "source": [
    "gdf.crs, gdf2.crs"
   ]
  },
  {
   "cell_type": "markdown",
   "metadata": {},
   "source": [
    "# Convert line numbers to percentages"
   ]
  },
  {
   "cell_type": "code",
   "execution_count": 18,
   "metadata": {},
   "outputs": [],
   "source": [
    "def lineToPercent(lineNo): \n",
    "    \"\"\" Convert the line number to a percentage in the narrative time of the novel,\n",
    "    i.e., 0% is the beginning of the novel, 100% is the end. \"\"\"\n",
    "    maxLines = {1: 1848, 2: 1458, 3: 1584, 4: 922, 5: 2794}\n",
    "    totalLines = sum(maxLines.values())\n",
    "    chap = int(str(lineNo)[0])\n",
    "    linesIntoChap = lineNo - (chap * 10000)\n",
    "    preceedingLines = sum([maxLines[i] for i in range(1, chap)])\n",
    "    return (preceedingLines + linesIntoChap) / totalLines"
   ]
  },
  {
   "cell_type": "code",
   "execution_count": 19,
   "metadata": {},
   "outputs": [],
   "source": [
    "gdf['percentNarrative'] = gdf['lineNo'].apply(lineToPercent)"
   ]
  },
  {
   "cell_type": "code",
   "execution_count": 20,
   "metadata": {},
   "outputs": [
    {
     "data": {
      "text/html": [
       "<div>\n",
       "<style scoped>\n",
       "    .dataframe tbody tr th:only-of-type {\n",
       "        vertical-align: middle;\n",
       "    }\n",
       "\n",
       "    .dataframe tbody tr th {\n",
       "        vertical-align: top;\n",
       "    }\n",
       "\n",
       "    .dataframe thead th {\n",
       "        text-align: right;\n",
       "    }\n",
       "</style>\n",
       "<table border=\"1\" class=\"dataframe\">\n",
       "  <thead>\n",
       "    <tr style=\"text-align: right;\">\n",
       "      <th></th>\n",
       "      <th>name</th>\n",
       "      <th>lineNo</th>\n",
       "      <th>geometry</th>\n",
       "      <th>percentNarrative</th>\n",
       "    </tr>\n",
       "  </thead>\n",
       "  <tbody>\n",
       "    <tr>\n",
       "      <th>0</th>\n",
       "      <td>Leicester Abbey</td>\n",
       "      <td>10112</td>\n",
       "      <td>POINT (-1.132563 52.640379)</td>\n",
       "      <td>0.013014</td>\n",
       "    </tr>\n",
       "    <tr>\n",
       "      <th>1</th>\n",
       "      <td>Leicester Abbey</td>\n",
       "      <td>10116</td>\n",
       "      <td>POINT (-1.132563 52.640379)</td>\n",
       "      <td>0.013479</td>\n",
       "    </tr>\n",
       "    <tr>\n",
       "      <th>2</th>\n",
       "      <td>Mozambique Channel</td>\n",
       "      <td>10132</td>\n",
       "      <td>POINT (41.280858 -18.615949)</td>\n",
       "      <td>0.015338</td>\n",
       "    </tr>\n",
       "    <tr>\n",
       "      <th>3</th>\n",
       "      <td>the longest river in America</td>\n",
       "      <td>10133</td>\n",
       "      <td>POINT (-90.199404 38.627003)</td>\n",
       "      <td>0.015454</td>\n",
       "    </tr>\n",
       "    <tr>\n",
       "      <th>4</th>\n",
       "      <td>Wicklow Hotel</td>\n",
       "      <td>10154</td>\n",
       "      <td>POINT (-6.260651 53.342872)</td>\n",
       "      <td>0.017894</td>\n",
       "    </tr>\n",
       "  </tbody>\n",
       "</table>\n",
       "</div>"
      ],
      "text/plain": [
       "                           name  lineNo                      geometry  \\\n",
       "0               Leicester Abbey   10112   POINT (-1.132563 52.640379)   \n",
       "1               Leicester Abbey   10116   POINT (-1.132563 52.640379)   \n",
       "2            Mozambique Channel   10132  POINT (41.280858 -18.615949)   \n",
       "3  the longest river in America   10133  POINT (-90.199404 38.627003)   \n",
       "4                 Wicklow Hotel   10154   POINT (-6.260651 53.342872)   \n",
       "\n",
       "   percentNarrative  \n",
       "0          0.013014  \n",
       "1          0.013479  \n",
       "2          0.015338  \n",
       "3          0.015454  \n",
       "4          0.017894  "
      ]
     },
     "execution_count": 20,
     "metadata": {},
     "output_type": "execute_result"
    }
   ],
   "source": [
    "gdf.head()"
   ]
  },
  {
   "cell_type": "markdown",
   "metadata": {},
   "source": [
    "# Plot with Altair"
   ]
  },
  {
   "cell_type": "code",
   "execution_count": 21,
   "metadata": {},
   "outputs": [
    {
     "data": {
      "text/html": [
       "<div>\n",
       "<style scoped>\n",
       "    .dataframe tbody tr th:only-of-type {\n",
       "        vertical-align: middle;\n",
       "    }\n",
       "\n",
       "    .dataframe tbody tr th {\n",
       "        vertical-align: top;\n",
       "    }\n",
       "\n",
       "    .dataframe thead th {\n",
       "        text-align: right;\n",
       "    }\n",
       "</style>\n",
       "<table border=\"1\" class=\"dataframe\">\n",
       "  <thead>\n",
       "    <tr style=\"text-align: right;\">\n",
       "      <th></th>\n",
       "      <th>name</th>\n",
       "      <th>lineNo</th>\n",
       "      <th>geometry</th>\n",
       "      <th>percentNarrative</th>\n",
       "    </tr>\n",
       "  </thead>\n",
       "  <tbody>\n",
       "    <tr>\n",
       "      <th>0</th>\n",
       "      <td>Leicester Abbey</td>\n",
       "      <td>10112</td>\n",
       "      <td>POINT (-1.132563 52.640379)</td>\n",
       "      <td>0.013014</td>\n",
       "    </tr>\n",
       "    <tr>\n",
       "      <th>1</th>\n",
       "      <td>Leicester Abbey</td>\n",
       "      <td>10116</td>\n",
       "      <td>POINT (-1.132563 52.640379)</td>\n",
       "      <td>0.013479</td>\n",
       "    </tr>\n",
       "    <tr>\n",
       "      <th>2</th>\n",
       "      <td>Mozambique Channel</td>\n",
       "      <td>10132</td>\n",
       "      <td>POINT (41.280858 -18.615949)</td>\n",
       "      <td>0.015338</td>\n",
       "    </tr>\n",
       "    <tr>\n",
       "      <th>3</th>\n",
       "      <td>the longest river in America</td>\n",
       "      <td>10133</td>\n",
       "      <td>POINT (-90.199404 38.627003)</td>\n",
       "      <td>0.015454</td>\n",
       "    </tr>\n",
       "    <tr>\n",
       "      <th>4</th>\n",
       "      <td>Wicklow Hotel</td>\n",
       "      <td>10154</td>\n",
       "      <td>POINT (-6.260651 53.342872)</td>\n",
       "      <td>0.017894</td>\n",
       "    </tr>\n",
       "  </tbody>\n",
       "</table>\n",
       "</div>"
      ],
      "text/plain": [
       "                           name  lineNo                      geometry  \\\n",
       "0               Leicester Abbey   10112   POINT (-1.132563 52.640379)   \n",
       "1               Leicester Abbey   10116   POINT (-1.132563 52.640379)   \n",
       "2            Mozambique Channel   10132  POINT (41.280858 -18.615949)   \n",
       "3  the longest river in America   10133  POINT (-90.199404 38.627003)   \n",
       "4                 Wicklow Hotel   10154   POINT (-6.260651 53.342872)   \n",
       "\n",
       "   percentNarrative  \n",
       "0          0.013014  \n",
       "1          0.013479  \n",
       "2          0.015338  \n",
       "3          0.015454  \n",
       "4          0.017894  "
      ]
     },
     "execution_count": 21,
     "metadata": {},
     "output_type": "execute_result"
    }
   ],
   "source": [
    "gdf.head()"
   ]
  },
  {
   "cell_type": "code",
   "execution_count": 22,
   "metadata": {},
   "outputs": [],
   "source": [
    "gdf['longitude'] = gdf['geometry'].apply(lambda pt: pt.x)\n",
    "gdf['latitude'] = gdf['geometry'].apply(lambda pt: pt.y)"
   ]
  },
  {
   "cell_type": "code",
   "execution_count": 23,
   "metadata": {},
   "outputs": [],
   "source": [
    "# Slice so that it's only showing the British Isles\n",
    "gdf = gdf.cx[-11:-5,50:58]\n",
    "gdf2 = gdf2.cx[-11:-5,50:58]\n",
    "\n",
    "# Reproject\n",
    "gdf = gdf.to_crs(epsg=web)\n",
    "gdf2 = gdf2.to_crs(epsg=web)"
   ]
  },
  {
   "cell_type": "code",
   "execution_count": 24,
   "metadata": {},
   "outputs": [
    {
     "data": {
      "text/html": [
       "<div>\n",
       "<style scoped>\n",
       "    .dataframe tbody tr th:only-of-type {\n",
       "        vertical-align: middle;\n",
       "    }\n",
       "\n",
       "    .dataframe tbody tr th {\n",
       "        vertical-align: top;\n",
       "    }\n",
       "\n",
       "    .dataframe thead th {\n",
       "        text-align: right;\n",
       "    }\n",
       "</style>\n",
       "<table border=\"1\" class=\"dataframe\">\n",
       "  <thead>\n",
       "    <tr style=\"text-align: right;\">\n",
       "      <th></th>\n",
       "      <th>name</th>\n",
       "      <th>lineNo</th>\n",
       "      <th>geometry</th>\n",
       "      <th>percentNarrative</th>\n",
       "      <th>longitude</th>\n",
       "      <th>latitude</th>\n",
       "    </tr>\n",
       "  </thead>\n",
       "  <tbody>\n",
       "    <tr>\n",
       "      <th>4</th>\n",
       "      <td>Wicklow Hotel</td>\n",
       "      <td>10154</td>\n",
       "      <td>POINT (-696932.4813543985 7046673.512596305)</td>\n",
       "      <td>0.017894</td>\n",
       "      <td>-6.260651</td>\n",
       "      <td>53.342872</td>\n",
       "    </tr>\n",
       "    <tr>\n",
       "      <th>5</th>\n",
       "      <td>Dalkey</td>\n",
       "      <td>10228</td>\n",
       "      <td>POINT (-679699.4449431653 7034570.294774786)</td>\n",
       "      <td>0.026493</td>\n",
       "      <td>-6.105844</td>\n",
       "      <td>53.277911</td>\n",
       "    </tr>\n",
       "    <tr>\n",
       "      <th>6</th>\n",
       "      <td>Tullabeg</td>\n",
       "      <td>10243</td>\n",
       "      <td>POINT (-938250.7621765682 6962425.840274226)</td>\n",
       "      <td>0.028236</td>\n",
       "      <td>-8.428450</td>\n",
       "      <td>52.888640</td>\n",
       "    </tr>\n",
       "    <tr>\n",
       "      <th>7</th>\n",
       "      <td>Clongowes Wood College</td>\n",
       "      <td>10302</td>\n",
       "      <td>POINT (-744139.1812176472 7040689.935816971)</td>\n",
       "      <td>0.035092</td>\n",
       "      <td>-6.684716</td>\n",
       "      <td>53.310769</td>\n",
       "    </tr>\n",
       "    <tr>\n",
       "      <th>8</th>\n",
       "      <td>Sallins</td>\n",
       "      <td>10303</td>\n",
       "      <td>POINT (-741970.1209395404 7029574.22250642)</td>\n",
       "      <td>0.035208</td>\n",
       "      <td>-6.665231</td>\n",
       "      <td>53.251067</td>\n",
       "    </tr>\n",
       "  </tbody>\n",
       "</table>\n",
       "</div>"
      ],
      "text/plain": [
       "                     name  lineNo  \\\n",
       "4           Wicklow Hotel   10154   \n",
       "5                  Dalkey   10228   \n",
       "6                Tullabeg   10243   \n",
       "7  Clongowes Wood College   10302   \n",
       "8                 Sallins   10303   \n",
       "\n",
       "                                       geometry  percentNarrative  longitude  \\\n",
       "4  POINT (-696932.4813543985 7046673.512596305)          0.017894  -6.260651   \n",
       "5  POINT (-679699.4449431653 7034570.294774786)          0.026493  -6.105844   \n",
       "6  POINT (-938250.7621765682 6962425.840274226)          0.028236  -8.428450   \n",
       "7  POINT (-744139.1812176472 7040689.935816971)          0.035092  -6.684716   \n",
       "8   POINT (-741970.1209395404 7029574.22250642)          0.035208  -6.665231   \n",
       "\n",
       "    latitude  \n",
       "4  53.342872  \n",
       "5  53.277911  \n",
       "6  52.888640  \n",
       "7  53.310769  \n",
       "8  53.251067  "
      ]
     },
     "execution_count": 24,
     "metadata": {},
     "output_type": "execute_result"
    }
   ],
   "source": [
    "gdf.head()"
   ]
  },
  {
   "cell_type": "code",
   "execution_count": 25,
   "metadata": {},
   "outputs": [
    {
     "data": {
      "text/html": [
       "<div>\n",
       "<style scoped>\n",
       "    .dataframe tbody tr th:only-of-type {\n",
       "        vertical-align: middle;\n",
       "    }\n",
       "\n",
       "    .dataframe tbody tr th {\n",
       "        vertical-align: top;\n",
       "    }\n",
       "\n",
       "    .dataframe thead th {\n",
       "        text-align: right;\n",
       "    }\n",
       "</style>\n",
       "<table border=\"1\" class=\"dataframe\">\n",
       "  <thead>\n",
       "    <tr style=\"text-align: right;\">\n",
       "      <th></th>\n",
       "      <th>scalerank</th>\n",
       "      <th>featurecla</th>\n",
       "      <th>min_zoom</th>\n",
       "      <th>geometry</th>\n",
       "    </tr>\n",
       "  </thead>\n",
       "  <tbody>\n",
       "    <tr>\n",
       "      <th>135</th>\n",
       "      <td>0</td>\n",
       "      <td>Land</td>\n",
       "      <td>0.0</td>\n",
       "      <td>POLYGON ((-346166.6548174007 8076392.071555997...</td>\n",
       "    </tr>\n",
       "    <tr>\n",
       "      <th>136</th>\n",
       "      <td>0</td>\n",
       "      <td>Land</td>\n",
       "      <td>0.0</td>\n",
       "      <td>POLYGON ((-799119.5750705791 7372914.122322312...</td>\n",
       "    </tr>\n",
       "    <tr>\n",
       "      <th>921</th>\n",
       "      <td>0</td>\n",
       "      <td>Land</td>\n",
       "      <td>4.0</td>\n",
       "      <td>POLYGON ((-735556.5806693792 7675767.059914085...</td>\n",
       "    </tr>\n",
       "    <tr>\n",
       "      <th>922</th>\n",
       "      <td>0</td>\n",
       "      <td>Land</td>\n",
       "      <td>3.0</td>\n",
       "      <td>POLYGON ((-568332.745988958 7449466.328552778,...</td>\n",
       "    </tr>\n",
       "    <tr>\n",
       "      <th>923</th>\n",
       "      <td>0</td>\n",
       "      <td>Land</td>\n",
       "      <td>2.0</td>\n",
       "      <td>POLYGON ((-643190.7551298264 7627270.82088888,...</td>\n",
       "    </tr>\n",
       "  </tbody>\n",
       "</table>\n",
       "</div>"
      ],
      "text/plain": [
       "     scalerank featurecla  min_zoom  \\\n",
       "135          0       Land       0.0   \n",
       "136          0       Land       0.0   \n",
       "921          0       Land       4.0   \n",
       "922          0       Land       3.0   \n",
       "923          0       Land       2.0   \n",
       "\n",
       "                                              geometry  \n",
       "135  POLYGON ((-346166.6548174007 8076392.071555997...  \n",
       "136  POLYGON ((-799119.5750705791 7372914.122322312...  \n",
       "921  POLYGON ((-735556.5806693792 7675767.059914085...  \n",
       "922  POLYGON ((-568332.745988958 7449466.328552778,...  \n",
       "923  POLYGON ((-643190.7551298264 7627270.82088888,...  "
      ]
     },
     "execution_count": 25,
     "metadata": {},
     "output_type": "execute_result"
    }
   ],
   "source": [
    "gdf2.head()"
   ]
  },
  {
   "cell_type": "code",
   "execution_count": 26,
   "metadata": {},
   "outputs": [],
   "source": [
    "gdf2 = gdf2[gdf2.index == 136]"
   ]
  },
  {
   "cell_type": "code",
   "execution_count": 27,
   "metadata": {},
   "outputs": [],
   "source": [
    "# Plot base map\n",
    "base = alt.Chart(gdf2).mark_geoshape(\n",
    "    fill='white',\n",
    "    stroke='black'\n",
    ").properties(\n",
    "    width=800,\n",
    "    height=800\n",
    ")\n",
    "\n",
    "points = alt.Chart(gdf).project().mark_circle().encode(\n",
    "    latitude = 'latitude',\n",
    "    longitude = 'longitude',\n",
    "    color = 'percentNarrative',\n",
    "    tooltip = 'name').properties(width=800, height=800)"
   ]
  },
  {
   "cell_type": "code",
   "execution_count": 28,
   "metadata": {},
   "outputs": [
    {
     "data": {
      "application/javascript": [
       "var spec = {\"config\": {\"view\": {\"width\": 400, \"height\": 300}, \"mark\": {\"tooltip\": null}}, \"layer\": [{\"data\": {\"name\": \"data-3fb8c3c2e9f12c8f15991cec867e88bb\"}, \"mark\": {\"type\": \"geoshape\", \"fill\": \"white\", \"stroke\": \"black\"}, \"height\": 800, \"width\": 800}, {\"data\": {\"name\": \"data-6d619ea22cbc304694146d50fc95a54d\"}, \"mark\": \"circle\", \"encoding\": {\"color\": {\"type\": \"quantitative\", \"field\": \"percentNarrative\"}, \"latitude\": {\"field\": \"latitude\", \"type\": \"quantitative\"}, \"longitude\": {\"field\": \"longitude\", \"type\": \"quantitative\"}, \"tooltip\": {\"type\": \"nominal\", \"field\": \"name\"}}, \"height\": 800, \"projection\": {\"type\": \"mercator\"}, \"width\": 800}], \"$schema\": \"https://vega.github.io/schema/vega-lite/v3.2.1.json\", \"datasets\": {\"data-3fb8c3c2e9f12c8f15991cec867e88bb\": \"[{\\\"scalerank\\\": 0, \\\"featurecla\\\": \\\"Land\\\", \\\"min_zoom\\\": 0.0, \\\"type\\\": \\\"Feature\\\", \\\"geometry\\\": {\\\"type\\\": \\\"Polygon\\\", \\\"coordinates\\\": [[[-7.178613281249984, 55.05688476562501], [-7.100634765624984, 55.04829101562498], [-7.030761718749992, 55.08061523437499], [-6.947167968750005, 55.18251953124998], [-6.888964843749992, 55.188916015624976], [-6.824853515624997, 55.18066406249998], [-6.6988281249999835, 55.19345703124999], [-6.475048828124981, 55.241015624999996], [-6.375292968749981, 55.241796875], [-6.234228515624981, 55.21684570312497], [-6.129150390625012, 55.21738281249998], [-6.035791015625, 55.14453124999999], [-5.9857421875, 55.0296875], [-5.86918945312499, 54.9162109375], [-5.716845703124988, 54.81748046875], [-5.710742187499992, 54.75708007812498], [-5.765185546874995, 54.724658203124974], [-5.879101562499973, 54.684375], [-5.87861328124999, 54.641308593750004], [-5.803466796875009, 54.663037109374976], [-5.738623046874989, 54.67304687499998], [-5.582519531250003, 54.663427734375006], [-5.527929687499989, 54.61962890625001], [-5.4901855468749865, 54.554052734375], [-5.470410156249973, 54.500195312499976], [-5.483886718750003, 54.44165039062499], [-5.525878906249998, 54.46020507812499], [-5.56855468749999, 54.51259765624997], [-5.615966796875008, 54.536718749999984], [-5.671093749999984, 54.54975585937499], [-5.646093749999984, 54.477880859374984], [-5.655957031249989, 54.38173828125001], [-5.631884765624981, 54.372656249999984], [-5.557812499999973, 54.37099609374999], [-5.606787109374975, 54.272558593749984], [-5.7080566406249815, 54.24584960937499], [-5.826171875, 54.23583984374999], [-5.854638671874986, 54.200976562499996], [-5.876074218749989, 54.15605468749999], [-5.93774414062499, 54.08906249999998], [-6.0190429687499964, 54.05126953125], [-6.119531249999999, 54.05888671875], [-6.218017578124988, 54.088720703124984], [-6.175732421874971, 54.053515624999974], [-6.156933593749977, 54.017236328125], [-6.230664062499984, 54.00361328124998], [-6.307617187499989, 54.01103515625], [-6.3451660156249785, 53.98720703125001], [-6.3476074218749705, 53.941308593749994], [-6.321582031249976, 53.882177734375], [-6.270117187499979, 53.840234375], [-6.229003906249996, 53.745703124999984], [-6.194873046874992, 53.640869140624986], [-6.141845703125012, 53.57753906249999], [-6.130957031249985, 53.49892578125], [-6.138769531249974, 53.460302734374984], [-6.129101562499983, 53.390869140625], [-6.151660156249988, 53.36640624999999], [-6.134716796874995, 53.30122070312499], [-6.07226562499999, 53.166308593749996], [-6.045019531249986, 53.09116210937499], [-6.027392578124997, 52.927099609375], [-6.071484374999986, 52.865624999999994], [-6.13066406249999, 52.80727539062499], [-6.169335937500008, 52.738134765625006], [-6.199218749999991, 52.66347656250001], [-6.217236328124983, 52.54311523437497], [-6.3454101562499945, 52.402001953125], [-6.39995117187498, 52.36694335937499], [-6.4631835937499895, 52.345361328124994], [-6.324999999999989, 52.24667968749999], [-6.437939453124974, 52.20268554687499], [-6.561083984374988, 52.188818359375], [-6.697314453124979, 52.213525390625], [-6.782226562500009, 52.210498046875], [-6.8597167968749755, 52.17856445312499], [-6.890234374999979, 52.15922851562499], [-6.914648437499988, 52.16855468749998], [-6.9657714843749865, 52.24951171875], [-7.003271484374971, 52.16591796875], [-7.08178710937501, 52.139306640624994], [-7.216210937500001, 52.14497070312498], [-7.440869140624988, 52.122705078124994], [-7.527294921874973, 52.098876953125014], [-7.563183593749972, 52.061621093749984], [-7.589843750000009, 52.018554687499986], [-7.624902343750002, 51.99311523437499], [-7.664550781250011, 51.97973632812499], [-7.837988281249965, 51.94799804687501], [-7.872167968749973, 51.93530273437497], [-7.952490234374984, 51.86577148437498], [-8.057812499999995, 51.825585937499994], [-8.145019531250009, 51.81352539062499], [-8.222460937499998, 51.85400390624999], [-8.25429687499999, 51.8783203125], [-8.290234374999994, 51.89067382812499], [-8.409179687499993, 51.88876953125], [-8.37163085937498, 51.87626953124999], [-8.347363281249983, 51.84770507812499], [-8.335595703124994, 51.792968749999986], [-8.349121093750002, 51.739306640624996], [-8.407812499999975, 51.71206054687499], [-8.477832031249976, 51.70703124999999], [-8.58828124999999, 51.65136718749997], [-8.734472656249968, 51.63618164062498], [-8.813427734374988, 51.584912109375], [-9.29648437499999, 51.4982421875], [-9.323876953125003, 51.49721679687498], [-9.390576171874976, 51.519287109375], [-9.462890625000009, 51.52905273437501], [-9.53486328124997, 51.52216796874999], [-9.737304687500002, 51.473730468749984], [-9.835351562499987, 51.48334960937499], [-9.710351562499996, 51.60371093749999], [-9.54238281249999, 51.66445312499997], [-9.524902343750009, 51.681103515625004], [-9.579833984374998, 51.689257812499996], [-9.899023437499975, 51.64707031249998], [-10.009912109374996, 51.61113281249998], [-10.120751953124987, 51.600683593749984], [-10.069433593749975, 51.655566406249996], [-9.92641601562499, 51.730712890624986], [-9.849707031249977, 51.766113281249986], [-9.802880859375, 51.780126953124984], [-9.749511718749995, 51.82426757812496], [-9.598828124999981, 51.87441406250001], [-10.084228515624995, 51.77099609375], [-10.211718749999983, 51.783593749999994], [-10.24174804687498, 51.81245117187499], [-10.341064453125002, 51.79892578125], [-10.378710937499998, 51.86875], [-10.231591796875005, 51.97451171875001], [-10.145849609374967, 52.02001953124999], [-10.044042968749974, 52.04458007812499], [-9.946044921874993, 52.07983398437499], [-9.909667968750012, 52.122949218749994], [-9.955810546874991, 52.13666992187498], [-10.24951171874999, 52.12573242187499], [-10.390234374999965, 52.134912109374994], [-10.38261718749999, 52.169091796874994], [-10.356689453125002, 52.20693359374998], [-10.210937500000005, 52.2716796875], [-10.132080078124995, 52.282080078124984], [-10.061767578124995, 52.27592773437498], [-9.993115234374988, 52.25932617187499], [-9.93730468749999, 52.237646484375], [-9.772119140625003, 52.250097656250006], [-9.841064453125005, 52.29145507812498], [-9.85322265624997, 52.37548828125001], [-9.906054687499987, 52.40371093749999], [-9.838476562499979, 52.442675781249974], [-9.761132812499994, 52.46635742187498], [-9.632226562499984, 52.546923828124996], [-9.586328124999996, 52.55917968749999], [-9.331249999999986, 52.57875976562498], [-9.056152343749995, 52.62114257812499], [-8.783447265624996, 52.679638671875], [-8.923291015624985, 52.712304687499994], [-8.990283203124978, 52.755419921875], [-9.097900390624998, 52.66826171874998], [-9.175390624999965, 52.634912109375], [-9.394238281249978, 52.61708984375], [-9.463476562499975, 52.626904296874976], [-9.56103515625, 52.65395507812501], [-9.591357421874992, 52.643652343749984], [-9.619531249999984, 52.62275390625], [-9.764355468749992, 52.57998046875], [-9.91660156249999, 52.5697265625], [-9.739599609374986, 52.648193359375], [-9.514990234374977, 52.78115234374999], [-9.464892578125, 52.82319335937498], [-9.393652343749988, 52.89624023437499], [-9.415722656249983, 52.928759765625], [-9.461962890624998, 52.947265625], [-9.299218750000001, 53.09755859375001], [-9.241894531249976, 53.12485351562498], [-9.137597656249985, 53.12924804687498], [-9.061132812499988, 53.15307617187498], [-9.027441406249967, 53.15317382812499], [-8.997167968749979, 53.162060546875004], [-8.930126953124981, 53.207080078124996], [-9.033544921874988, 53.2357421875], [-9.140332031249974, 53.25048828125001], [-9.470751953124976, 53.23486328124999], [-9.514208984374998, 53.238232421875004], [-9.555175781249996, 53.25205078124998], [-9.58173828124998, 53.27197265625001], [-9.601757812499985, 53.323046874999974], [-9.625976562500004, 53.334472656249986], [-9.700585937499998, 53.334472656249986], [-9.774072265624989, 53.318847656249986], [-9.825390624999976, 53.32036132812498], [-9.87578125, 53.342724609375], [-9.79541015625001, 53.39497070312498], [-9.899023437499975, 53.40727539062498], [-10.003906250000007, 53.397021484375], [-10.091259765624978, 53.412841796874986], [-10.093994140624993, 53.44560546874999], [-10.054394531249986, 53.47832031249998], [-10.106249999999989, 53.50932617187499], [-10.116992187499978, 53.54853515624999], [-10.061718749999992, 53.56782226562499], [-10.001367187499984, 53.56142578125001], [-9.878271484374972, 53.5904296875], [-9.72065429687498, 53.60449218749999], [-9.855859375, 53.63310546875], [-9.90971679687499, 53.65761718749999], [-9.912304687499994, 53.695117187499974], [-9.901611328125005, 53.72719726562498], [-9.745068359374986, 53.78149414062501], [-9.578222656249984, 53.805419921875], [-9.590527343749983, 53.84116210937498], [-9.578857421875004, 53.87983398437498], [-9.747509765624981, 53.89101562500001], [-9.91406249999999, 53.863720703125], [-9.89624023437501, 53.93759765624999], [-9.856347656249985, 54.00429687499999], [-9.848486328124967, 54.048291015625], [-9.856445312499993, 54.095361328124994], [-9.934472656249996, 54.075244140624996], [-9.943603515625, 54.14160156250001], [-9.977099609374985, 54.18710937499999], [-10.092675781250003, 54.15576171874997], [-10.08969726562497, 54.2158203125], [-10.056396484375002, 54.257812499999986], [-9.995947265624984, 54.276025390624994], [-9.935937499999998, 54.268115234375], [-9.824560546874968, 54.268896484375006], [-9.717138671874986, 54.300439453124966], [-9.562304687499989, 54.30854492187499], [-9.315527343749977, 54.29863281249998], [-9.145898437499982, 54.209619140625], [-9.102099609374987, 54.22553710937498], [-9.034277343749986, 54.281787109374996], [-9.002441406249993, 54.287988281249994], [-8.746777343749994, 54.26347656249997], [-8.588037109375, 54.231103515624994], [-8.545556640624996, 54.2412109375], [-8.568457031249974, 54.303613281249994], [-8.623144531249968, 54.346875], [-8.554443359375009, 54.40356445312499], [-8.470996093749982, 54.44194335937499], [-8.415234374999985, 54.46108398437501], [-8.286523437499989, 54.48486328124999], [-8.23037109374999, 54.507275390625], [-8.192968749999988, 54.58012695312499], [-8.133447265624985, 54.64082031249999], [-8.45654296875001, 54.609277343749994], [-8.763916015625, 54.681201171874974], [-8.71518554687499, 54.73203124999998], [-8.650292968749989, 54.760888671875], [-8.538281249999994, 54.78295898437499], [-8.52768554687499, 54.809472656249994], [-8.470996093749982, 54.831542968749986], [-8.37729492187497, 54.88945312499999], [-8.411718749999968, 54.965087890625], [-8.39326171874997, 55.02041015624999], [-8.32578124999997, 55.056445312499996], [-8.30468749999999, 55.10820312499999], [-8.274609374999992, 55.14628906249999], [-8.137695312500002, 55.159912109374986], [-8.006103515625005, 55.1953125], [-7.958593749999981, 55.19189453124998], [-7.803173828124992, 55.200048828124984], [-7.750537109374988, 55.18579101562499], [-7.762548828124964, 55.24833984375], [-7.667089843749985, 55.25649414062499], [-7.629785156249989, 55.24399414062497], [-7.613378906249983, 55.199658203125], [-7.570019531249994, 55.17138671874999], [-7.5566406249999964, 55.12221679687497], [-7.585693359374999, 55.084228515624986], [-7.634277343749998, 55.05498046874998], [-7.589843750000009, 55.02504882812499], [-7.658740234374985, 54.97094726562501], [-7.584374999999982, 54.99399414062499], [-7.478417968750004, 55.04697265625], [-7.483935546874984, 55.09028320312499], [-7.501953125000001, 55.14472656249998], [-7.531445312499984, 55.19384765624999], [-7.517871093749998, 55.24794921875], [-7.458300781249992, 55.28178710937498], [-7.3017578125, 55.298779296875], [-7.365966796875, 55.36020507812499], [-7.308789062499983, 55.3658203125], [-7.246679687499976, 55.35302734374998], [-7.155322265624979, 55.30517578124999], [-7.060253906249975, 55.26762695312498], [-6.961669921875004, 55.23789062499998], [-7.056396484375011, 55.1783203125], [-7.1728515624999885, 55.137011718749974], [-7.218652343749996, 55.0919921875], [-7.178613281249984, 55.05688476562501]]]}, \\\"id\\\": \\\"136\\\"}]\", \"data-6d619ea22cbc304694146d50fc95a54d\": \"[{\\\"name\\\": \\\"Wicklow Hotel\\\", \\\"lineNo\\\": 10154, \\\"percentNarrative\\\": 0.017894492214733906, \\\"longitude\\\": -6.260651, \\\"latitude\\\": 53.342872, \\\"type\\\": \\\"Feature\\\", \\\"geometry\\\": {\\\"type\\\": \\\"Point\\\", \\\"coordinates\\\": [-6.260650999999996, 53.342871999999986]}, \\\"id\\\": \\\"4\\\"}, {\\\"name\\\": \\\"Dalkey\\\", \\\"lineNo\\\": 10228, \\\"percentNarrative\\\": 0.026493144317917734, \\\"longitude\\\": -6.105844, \\\"latitude\\\": 53.277911, \\\"type\\\": \\\"Feature\\\", \\\"geometry\\\": {\\\"type\\\": \\\"Point\\\", \\\"coordinates\\\": [-6.105844000000005, 53.277910999999996]}, \\\"id\\\": \\\"5\\\"}, {\\\"name\\\": \\\"Tullabeg\\\", \\\"lineNo\\\": 10243, \\\"percentNarrative\\\": 0.02823611433883337, \\\"longitude\\\": -8.42845, \\\"latitude\\\": 52.88864, \\\"type\\\": \\\"Feature\\\", \\\"geometry\\\": {\\\"type\\\": \\\"Point\\\", \\\"coordinates\\\": [-8.428450000000014, 52.888639999999995]}, \\\"id\\\": \\\"6\\\"}, {\\\"name\\\": \\\"Clongowes Wood College\\\", \\\"lineNo\\\": 10302, \\\"percentNarrative\\\": 0.03509179642110156, \\\"longitude\\\": -6.684716, \\\"latitude\\\": 53.310769, \\\"type\\\": \\\"Feature\\\", \\\"geometry\\\": {\\\"type\\\": \\\"Point\\\", \\\"coordinates\\\": [-6.6847159999999874, 53.31076899999999]}, \\\"id\\\": \\\"7\\\"}, {\\\"name\\\": \\\"Sallins\\\", \\\"lineNo\\\": 10303, \\\"percentNarrative\\\": 0.035207994422495933, \\\"longitude\\\": -6.665231, \\\"latitude\\\": 53.251067, \\\"type\\\": \\\"Feature\\\", \\\"geometry\\\": {\\\"type\\\": \\\"Point\\\", \\\"coordinates\\\": [-6.665230999999989, 53.251066999999985]}, \\\"id\\\": \\\"8\\\"}, {\\\"name\\\": \\\"Clongowes\\\", \\\"lineNo\\\": 10313, \\\"percentNarrative\\\": 0.036369974436439696, \\\"longitude\\\": -6.684716, \\\"latitude\\\": 53.310769, \\\"type\\\": \\\"Feature\\\", \\\"geometry\\\": {\\\"type\\\": \\\"Point\\\", \\\"coordinates\\\": [-6.6847159999999874, 53.31076899999999]}, \\\"id\\\": \\\"9\\\"}, {\\\"name\\\": \\\"Clane\\\", \\\"lineNo\\\": 10386, \\\"percentNarrative\\\": 0.04485242853822914, \\\"longitude\\\": -6.68704, \\\"latitude\\\": 53.293785, \\\"type\\\": \\\"Feature\\\", \\\"geometry\\\": {\\\"type\\\": \\\"Point\\\", \\\"coordinates\\\": [-6.687039999999992, 53.293784999999986]}, \\\"id\\\": \\\"10\\\"}, {\\\"name\\\": \\\"Sallins\\\", \\\"lineNo\\\": 10389, \\\"percentNarrative\\\": 0.04520102254241227, \\\"longitude\\\": -6.665231, \\\"latitude\\\": 53.251067, \\\"type\\\": \\\"Feature\\\", \\\"geometry\\\": {\\\"type\\\": \\\"Point\\\", \\\"coordinates\\\": [-6.665230999999989, 53.251066999999985]}, \\\"id\\\": \\\"11\\\"}, {\\\"name\\\": \\\"Bodenstown\\\", \\\"lineNo\\\": 10458, \\\"percentNarrative\\\": 0.05321868463862422, \\\"longitude\\\": -6.666295, \\\"latitude\\\": 53.262617, \\\"type\\\": \\\"Feature\\\", \\\"geometry\\\": {\\\"type\\\": \\\"Point\\\", \\\"coordinates\\\": [-6.666294999999998, 53.26261699999998]}, \\\"id\\\": \\\"13\\\"}, {\\\"name\\\": \\\"Clane\\\", \\\"lineNo\\\": 10460, \\\"percentNarrative\\\": 0.05345108064141297, \\\"longitude\\\": -6.68704, \\\"latitude\\\": 53.293785, \\\"type\\\": \\\"Feature\\\", \\\"geometry\\\": {\\\"type\\\": \\\"Point\\\", \\\"coordinates\\\": [-6.687039999999992, 53.293784999999986]}, \\\"id\\\": \\\"14\\\"}, {\\\"name\\\": \\\"Hill of Allen\\\", \\\"lineNo\\\": 10470, \\\"percentNarrative\\\": 0.054613060655356725, \\\"longitude\\\": -6.866389, \\\"latitude\\\": 53.230556, \\\"type\\\": \\\"Feature\\\", \\\"geometry\\\": {\\\"type\\\": \\\"Point\\\", \\\"coordinates\\\": [-6.866389000000002, 53.230556]}, \\\"id\\\": \\\"15\\\"}, {\\\"name\\\": \\\"Athy\\\", \\\"lineNo\\\": 10639, \\\"percentNarrative\\\": 0.07425052289100627, \\\"longitude\\\": -6.985728, \\\"latitude\\\": 52.991834, \\\"type\\\": \\\"Feature\\\", \\\"geometry\\\": {\\\"type\\\": \\\"Point\\\", \\\"coordinates\\\": [-6.985728000000002, 52.99183399999998]}, \\\"id\\\": \\\"16\\\"}, {\\\"name\\\": \\\"the Head\\\", \\\"lineNo\\\": 10746, \\\"percentNarrative\\\": 0.0866837090402045, \\\"longitude\\\": -6.08949, \\\"latitude\\\": 53.19076, \\\"type\\\": \\\"Feature\\\", \\\"geometry\\\": {\\\"type\\\": \\\"Point\\\", \\\"coordinates\\\": [-6.089489999999996, 53.19076]}, \\\"id\\\": \\\"17\\\"}, {\\\"name\\\": \\\"Dunn's of D'Olier Street\\\", \\\"lineNo\\\": 10797, \\\"percentNarrative\\\": 0.09260980711131768, \\\"longitude\\\": -6.257925, \\\"latitude\\\": 53.346308, \\\"type\\\": \\\"Feature\\\", \\\"geometry\\\": {\\\"type\\\": \\\"Point\\\", \\\"coordinates\\\": [-6.2579250000000055, 53.34630799999998]}, \\\"id\\\": \\\"18\\\"}, {\\\"name\\\": \\\"Armagh\\\", \\\"lineNo\\\": 10923, \\\"percentNarrative\\\": 0.10725075528700906, \\\"longitude\\\": -6.652792, \\\"latitude\\\": 54.35028, \\\"type\\\": \\\"Feature\\\", \\\"geometry\\\": {\\\"type\\\": \\\"Point\\\", \\\"coordinates\\\": [-6.65279199999999, 54.35027999999998]}, \\\"id\\\": \\\"20\\\"}, {\\\"name\\\": \\\"county Wicklow\\\", \\\"lineNo\\\": 10965, \\\"percentNarrative\\\": 0.11213107134557286, \\\"longitude\\\": -6.367254, \\\"latitude\\\": 52.986231, \\\"type\\\": \\\"Feature\\\", \\\"geometry\\\": {\\\"type\\\": \\\"Point\\\", \\\"coordinates\\\": [-6.367253999999992, 52.98623099999999]}, \\\"id\\\": \\\"21\\\"}, {\\\"name\\\": \\\"Arklow\\\", \\\"lineNo\\\": 11013, \\\"percentNarrative\\\": 0.1177085754125029, \\\"longitude\\\": -6.159929, \\\"latitude\\\": 52.797693, \\\"type\\\": \\\"Feature\\\", \\\"geometry\\\": {\\\"type\\\": \\\"Point\\\", \\\"coordinates\\\": [-6.159928999999996, 52.797693]}, \\\"id\\\": \\\"22\\\"}, {\\\"name\\\": \\\"Tullamore\\\", \\\"lineNo\\\": 11032, \\\"percentNarrative\\\": 0.11991633743899605, \\\"longitude\\\": -7.493385, \\\"latitude\\\": 53.275526, \\\"type\\\": \\\"Feature\\\", \\\"geometry\\\": {\\\"type\\\": \\\"Point\\\", \\\"coordinates\\\": [-7.493384999999993, 53.275526000000006]}, \\\"id\\\": \\\"24\\\"}, {\\\"name\\\": \\\"Dublin\\\", \\\"lineNo\\\": 11066, \\\"percentNarrative\\\": 0.12386706948640483, \\\"longitude\\\": -6.26031, \\\"latitude\\\": 53.349805, \\\"type\\\": \\\"Feature\\\", \\\"geometry\\\": {\\\"type\\\": \\\"Point\\\", \\\"coordinates\\\": [-6.260309999999997, 53.349805]}, \\\"id\\\": \\\"25\\\"}, {\\\"name\\\": \\\"the Cabinteely road\\\", \\\"lineNo\\\": 11068, \\\"percentNarrative\\\": 0.12409946548919358, \\\"longitude\\\": -6.156109, \\\"latitude\\\": 53.265647, \\\"type\\\": \\\"Feature\\\", \\\"geometry\\\": {\\\"type\\\": \\\"Point\\\", \\\"coordinates\\\": [-6.156109000000007, 53.26564700000001]}, \\\"id\\\": \\\"26\\\"}, {\\\"name\\\": \\\"Hill of Lyons\\\", \\\"lineNo\\\": 11154, \\\"percentNarrative\\\": 0.13409249360910994, \\\"longitude\\\": -6.53506, \\\"latitude\\\": 53.29067, \\\"type\\\": \\\"Feature\\\", \\\"geometry\\\": {\\\"type\\\": \\\"Point\\\", \\\"coordinates\\\": [-6.535060000000008, 53.29066999999999]}, \\\"id\\\": \\\"27\\\"}, {\\\"name\\\": \\\"Major Barton's\\\", \\\"lineNo\\\": 11841, \\\"percentNarrative\\\": 0.21392052056704625, \\\"longitude\\\": -6.585225, \\\"latitude\\\": 53.257926, \\\"type\\\": \\\"Feature\\\", \\\"geometry\\\": {\\\"type\\\": \\\"Point\\\", \\\"coordinates\\\": [-6.585224999999997, 53.25792599999998]}, \\\"id\\\": \\\"30\\\"}, {\\\"name\\\": \\\"Carysfort Avenue\\\", \\\"lineNo\\\": 20027, \\\"percentNarrative\\\": 0.21787125261445503, \\\"longitude\\\": -6.180109, \\\"latitude\\\": 53.293248, \\\"type\\\": \\\"Feature\\\", \\\"geometry\\\": {\\\"type\\\": \\\"Point\\\", \\\"coordinates\\\": [-6.1801089999999945, 53.293248]}, \\\"id\\\": \\\"31\\\"}, {\\\"name\\\": \\\"Stillorgan\\\", \\\"lineNo\\\": 20076, \\\"percentNarrative\\\": 0.22356495468277945, \\\"longitude\\\": -6.203573, \\\"latitude\\\": 53.287857, \\\"type\\\": \\\"Feature\\\", \\\"geometry\\\": {\\\"type\\\": \\\"Point\\\", \\\"coordinates\\\": [-6.203573000000002, 53.28785699999998]}, \\\"id\\\": \\\"32\\\"}, {\\\"name\\\": \\\"Goatstown road\\\", \\\"lineNo\\\": 20078, \\\"percentNarrative\\\": 0.22379735068556822, \\\"longitude\\\": -6.233964, \\\"latitude\\\": 53.297702, \\\"type\\\": \\\"Feature\\\", \\\"geometry\\\": {\\\"type\\\": \\\"Point\\\", \\\"coordinates\\\": [-6.233963999999993, 53.297702]}, \\\"id\\\": \\\"33\\\"}, {\\\"name\\\": \\\"Dundrum\\\", \\\"lineNo\\\": 20078, \\\"percentNarrative\\\": 0.22379735068556822, \\\"longitude\\\": -6.243264, \\\"latitude\\\": 53.289154, \\\"type\\\": \\\"Feature\\\", \\\"geometry\\\": {\\\"type\\\": \\\"Point\\\", \\\"coordinates\\\": [-6.243263999999998, 53.289153999999996]}, \\\"id\\\": \\\"34\\\"}, {\\\"name\\\": \\\"Sandyford\\\", \\\"lineNo\\\": 20079, \\\"percentNarrative\\\": 0.2239135486869626, \\\"longitude\\\": -6.224923, \\\"latitude\\\": 53.269979, \\\"type\\\": \\\"Feature\\\", \\\"geometry\\\": {\\\"type\\\": \\\"Point\\\", \\\"coordinates\\\": [-6.224922999999995, 53.26997899999998]}, \\\"id\\\": \\\"35\\\"}, {\\\"name\\\": \\\"Black- rock\\\", \\\"lineNo\\\": 20099, \\\"percentNarrative\\\": 0.2262375087148501, \\\"longitude\\\": -6.177049, \\\"latitude\\\": 53.300907, \\\"type\\\": \\\"Feature\\\", \\\"geometry\\\": {\\\"type\\\": \\\"Point\\\", \\\"coordinates\\\": [-6.177049000000007, 53.30090699999999]}, \\\"id\\\": \\\"37\\\"}, {\\\"name\\\": \\\"Carrickmines\\\", \\\"lineNo\\\": 20126, \\\"percentNarrative\\\": 0.22937485475249825, \\\"longitude\\\": -6.179926, \\\"latitude\\\": 53.250224, \\\"type\\\": \\\"Feature\\\", \\\"geometry\\\": {\\\"type\\\": \\\"Point\\\", \\\"coordinates\\\": [-6.179926000000009, 53.250224]}, \\\"id\\\": \\\"38\\\"}, {\\\"name\\\": \\\"Stradbrook\\\", \\\"lineNo\\\": 20130, \\\"percentNarrative\\\": 0.22983964675807575, \\\"longitude\\\": -6.177067, \\\"latitude\\\": 53.300791, \\\"type\\\": \\\"Feature\\\", \\\"geometry\\\": {\\\"type\\\": \\\"Point\\\", \\\"coordinates\\\": [-6.177067000000002, 53.30079099999998]}, \\\"id\\\": \\\"39\\\"}, {\\\"name\\\": \\\"Clongowes\\\", \\\"lineNo\\\": 20136, \\\"percentNarrative\\\": 0.23053683476644202, \\\"longitude\\\": -6.684719, \\\"latitude\\\": 53.31077, \\\"type\\\": \\\"Feature\\\", \\\"geometry\\\": {\\\"type\\\": \\\"Point\\\", \\\"coordinates\\\": [-6.684718999999999, 53.31076999999998]}, \\\"id\\\": \\\"40\\\"}, {\\\"name\\\": \\\"Clongowes\\\", \\\"lineNo\\\": 20157, \\\"percentNarrative\\\": 0.23297699279572393, \\\"longitude\\\": -6.684719, \\\"latitude\\\": 53.31077, \\\"type\\\": \\\"Feature\\\", \\\"geometry\\\": {\\\"type\\\": \\\"Point\\\", \\\"coordinates\\\": [-6.684718999999999, 53.31076999999998]}, \\\"id\\\": \\\"41\\\"}, {\\\"name\\\": \\\"Clongowes\\\", \\\"lineNo\\\": 20173, \\\"percentNarrative\\\": 0.23483616081803393, \\\"longitude\\\": -6.684719, \\\"latitude\\\": 53.31077, \\\"type\\\": \\\"Feature\\\", \\\"geometry\\\": {\\\"type\\\": \\\"Point\\\", \\\"coordinates\\\": [-6.684718999999999, 53.31076999999998]}, \\\"id\\\": \\\"42\\\"}, {\\\"name\\\": \\\"Blackrock\\\", \\\"lineNo\\\": 20207, \\\"percentNarrative\\\": 0.23878689286544272, \\\"longitude\\\": -6.177049, \\\"latitude\\\": 53.300907, \\\"type\\\": \\\"Feature\\\", \\\"geometry\\\": {\\\"type\\\": \\\"Point\\\", \\\"coordinates\\\": [-6.177049000000007, 53.30090699999999]}, \\\"id\\\": \\\"43\\\"}, {\\\"name\\\": \\\"Dublin\\\", \\\"lineNo\\\": 20219, \\\"percentNarrative\\\": 0.24018126888217523, \\\"longitude\\\": -6.263654, \\\"latitude\\\": 53.349307, \\\"type\\\": \\\"Feature\\\", \\\"geometry\\\": {\\\"type\\\": \\\"Point\\\", \\\"coordinates\\\": [-6.263653999999987, 53.34930699999998]}, \\\"id\\\": \\\"44\\\"}, {\\\"name\\\": \\\"Blackrock\\\", \\\"lineNo\\\": 20222, \\\"percentNarrative\\\": 0.24052986288635836, \\\"longitude\\\": -6.177049, \\\"latitude\\\": 53.300907, \\\"type\\\": \\\"Feature\\\", \\\"geometry\\\": {\\\"type\\\": \\\"Point\\\", \\\"coordinates\\\": [-6.177049000000007, 53.30090699999999]}, \\\"id\\\": \\\"45\\\"}, {\\\"name\\\": \\\"Harold's Cross\\\", \\\"lineNo\\\": 20303, \\\"percentNarrative\\\": 0.2499419009993028, \\\"longitude\\\": -6.28158, \\\"latitude\\\": 53.324608, \\\"type\\\": \\\"Feature\\\", \\\"geometry\\\": {\\\"type\\\": \\\"Point\\\", \\\"coordinates\\\": [-6.2815800000000035, 53.32460799999999]}, \\\"id\\\": \\\"47\\\"}, {\\\"name\\\": \\\"Clongowes\\\", \\\"lineNo\\\": 20397, \\\"percentNarrative\\\": 0.2608645131303742, \\\"longitude\\\": -6.684719, \\\"latitude\\\": 53.31077, \\\"type\\\": \\\"Feature\\\", \\\"geometry\\\": {\\\"type\\\": \\\"Point\\\", \\\"coordinates\\\": [-6.684718999999999, 53.31076999999998]}, \\\"id\\\": \\\"48\\\"}, {\\\"name\\\": \\\"Clongowes\\\", \\\"lineNo\\\": 20413, \\\"percentNarrative\\\": 0.2627236811526842, \\\"longitude\\\": -6.684719, \\\"latitude\\\": 53.31077, \\\"type\\\": \\\"Feature\\\", \\\"geometry\\\": {\\\"type\\\": \\\"Point\\\", \\\"coordinates\\\": [-6.684718999999999, 53.31076999999998]}, \\\"id\\\": \\\"49\\\"}, {\\\"name\\\": \\\"Harold's Cross\\\", \\\"lineNo\\\": 20614, \\\"percentNarrative\\\": 0.28607947943295375, \\\"longitude\\\": -6.28158, \\\"latitude\\\": 53.324608, \\\"type\\\": \\\"Feature\\\", \\\"geometry\\\": {\\\"type\\\": \\\"Point\\\", \\\"coordinates\\\": [-6.2815800000000035, 53.32460799999999]}, \\\"id\\\": \\\"50\\\"}, {\\\"name\\\": \\\"Dublin\\\", \\\"lineNo\\\": 20657, \\\"percentNarrative\\\": 0.2910759934929119, \\\"longitude\\\": -6.263654, \\\"latitude\\\": 53.349307, \\\"type\\\": \\\"Feature\\\", \\\"geometry\\\": {\\\"type\\\": \\\"Point\\\", \\\"coordinates\\\": [-6.263653999999987, 53.34930699999998]}, \\\"id\\\": \\\"51\\\"}, {\\\"name\\\": \\\"Drumcondra Road\\\", \\\"lineNo\\\": 20701, \\\"percentNarrative\\\": 0.29618870555426446, \\\"longitude\\\": -6.258, \\\"latitude\\\": 53.36324, \\\"type\\\": \\\"Feature\\\", \\\"geometry\\\": {\\\"type\\\": \\\"Point\\\", \\\"coordinates\\\": [-6.257999999999997, 53.36324]}, \\\"id\\\": \\\"52\\\"}, {\\\"name\\\": \\\"Clonliffe Road\\\", \\\"lineNo\\\": 20710, \\\"percentNarrative\\\": 0.29723448756681387, \\\"longitude\\\": -6.249867, \\\"latitude\\\": 53.362304, \\\"type\\\": \\\"Feature\\\", \\\"geometry\\\": {\\\"type\\\": \\\"Point\\\", \\\"coordinates\\\": [-6.249867000000001, 53.36230399999998]}, \\\"id\\\": \\\"53\\\"}, {\\\"name\\\": \\\"Jones's Road\\\", \\\"lineNo\\\": 20789, \\\"percentNarrative\\\": 0.30641412967696957, \\\"longitude\\\": -6.25123, \\\"latitude\\\": 53.360891, \\\"type\\\": \\\"Feature\\\", \\\"geometry\\\": {\\\"type\\\": \\\"Point\\\", \\\"coordinates\\\": [-6.251229999999996, 53.36089099999999]}, \\\"id\\\": \\\"54\\\"}, {\\\"name\\\": \\\"Jones's Road\\\", \\\"lineNo\\\": 20800, \\\"percentNarrative\\\": 0.3076923076923077, \\\"longitude\\\": -6.25123, \\\"latitude\\\": 53.360891, \\\"type\\\": \\\"Feature\\\", \\\"geometry\\\": {\\\"type\\\": \\\"Point\\\", \\\"coordinates\\\": [-6.251229999999996, 53.36089099999999]}, \\\"id\\\": \\\"55\\\"}, {\\\"name\\\": \\\"Clongowes\\\", \\\"lineNo\\\": 20873, \\\"percentNarrative\\\": 0.31617476179409715, \\\"longitude\\\": -6.684719, \\\"latitude\\\": 53.31077, \\\"type\\\": \\\"Feature\\\", \\\"geometry\\\": {\\\"type\\\": \\\"Point\\\", \\\"coordinates\\\": [-6.684718999999999, 53.31076999999998]}, \\\"id\\\": \\\"56\\\"}, {\\\"name\\\": \\\"Clongowes\\\", \\\"lineNo\\\": 20950, \\\"percentNarrative\\\": 0.3251220079014641, \\\"longitude\\\": -6.684719, \\\"latitude\\\": 53.31077, \\\"type\\\": \\\"Feature\\\", \\\"geometry\\\": {\\\"type\\\": \\\"Point\\\", \\\"coordinates\\\": [-6.684718999999999, 53.31076999999998]}, \\\"id\\\": \\\"57\\\"}, {\\\"name\\\": \\\"Clongowes\\\", \\\"lineNo\\\": 21158, \\\"percentNarrative\\\": 0.3492911921914943, \\\"longitude\\\": -6.684719, \\\"latitude\\\": 53.31077, \\\"type\\\": \\\"Feature\\\", \\\"geometry\\\": {\\\"type\\\": \\\"Point\\\", \\\"coordinates\\\": [-6.684718999999999, 53.31076999999998]}, \\\"id\\\": \\\"58\\\"}, {\\\"name\\\": \\\"Clongowes\\\", \\\"lineNo\\\": 30240, \\\"percentNarrative\\\": 0.41203811294445736, \\\"longitude\\\": -6.684096, \\\"latitude\\\": 53.310624, \\\"type\\\": \\\"Feature\\\", \\\"geometry\\\": {\\\"type\\\": \\\"Point\\\", \\\"coordinates\\\": [-6.684096000000004, 53.31062399999998]}, \\\"id\\\": \\\"61\\\"}, {\\\"name\\\": \\\"Malahide\\\", \\\"lineNo\\\": 30835, \\\"percentNarrative\\\": 0.48117592377411106, \\\"longitude\\\": -6.150138, \\\"latitude\\\": 53.450924, \\\"type\\\": \\\"Feature\\\", \\\"geometry\\\": {\\\"type\\\": \\\"Point\\\", \\\"coordinates\\\": [-6.15013800000001, 53.45092399999998]}, \\\"id\\\": \\\"62\\\"}, {\\\"name\\\": \\\"Stradbrook\\\", \\\"lineNo\\\": 40295, \\\"percentNarrative\\\": 0.6024866372298396, \\\"longitude\\\": -6.168866, \\\"latitude\\\": 53.293003, \\\"type\\\": \\\"Feature\\\", \\\"geometry\\\": {\\\"type\\\": \\\"Point\\\", \\\"coordinates\\\": [-6.1688659999999915, 53.29300299999998]}, \\\"id\\\": \\\"63\\\"}, {\\\"name\\\": \\\"Clongowes\\\", \\\"lineNo\\\": 40313, \\\"percentNarrative\\\": 0.6045782012549384, \\\"longitude\\\": -6.695541, \\\"latitude\\\": 53.310601, \\\"type\\\": \\\"Feature\\\", \\\"geometry\\\": {\\\"type\\\": \\\"Point\\\", \\\"coordinates\\\": [-6.695540999999992, 53.310601]}, \\\"id\\\": \\\"64\\\"}, {\\\"name\\\": \\\"Bel- vedere\\\", \\\"lineNo\\\": 40313, \\\"percentNarrative\\\": 0.6045782012549384, \\\"longitude\\\": -8.21107, \\\"latitude\\\": 52.2078, \\\"type\\\": \\\"Feature\\\", \\\"geometry\\\": {\\\"type\\\": \\\"Point\\\", \\\"coordinates\\\": [-8.211070000000005, 52.2078]}, \\\"id\\\": \\\"65\\\"}, {\\\"name\\\": \\\"Clongowes\\\", \\\"lineNo\\\": 40352, \\\"percentNarrative\\\": 0.6091099233093191, \\\"longitude\\\": -6.275034, \\\"latitude\\\": 53.348746, \\\"type\\\": \\\"Feature\\\", \\\"geometry\\\": {\\\"type\\\": \\\"Point\\\", \\\"coordinates\\\": [-6.275033999999998, 53.34874599999997]}, \\\"id\\\": \\\"66\\\"}, {\\\"name\\\": \\\"Clongowes\\\", \\\"lineNo\\\": 40355, \\\"percentNarrative\\\": 0.6094585173135022, \\\"longitude\\\": -6.275034, \\\"latitude\\\": 53.348746, \\\"type\\\": \\\"Feature\\\", \\\"geometry\\\": {\\\"type\\\": \\\"Point\\\", \\\"coordinates\\\": [-6.275033999999998, 53.34874599999997]}, \\\"id\\\": \\\"67\\\"}, {\\\"name\\\": \\\"Findlater's church\\\", \\\"lineNo\\\": 40466, \\\"percentNarrative\\\": 0.622356495468278, \\\"longitude\\\": -6.263812, \\\"latitude\\\": 53.354445, \\\"type\\\": \\\"Feature\\\", \\\"geometry\\\": {\\\"type\\\": \\\"Point\\\", \\\"coordinates\\\": [-6.2638120000000015, 53.354445]}, \\\"id\\\": \\\"68\\\"}, {\\\"name\\\": \\\"Clongowes\\\", \\\"lineNo\\\": 40484, \\\"percentNarrative\\\": 0.6244480594933767, \\\"longitude\\\": -6.275034, \\\"latitude\\\": 53.348746, \\\"type\\\": \\\"Feature\\\", \\\"geometry\\\": {\\\"type\\\": \\\"Point\\\", \\\"coordinates\\\": [-6.275033999999998, 53.34874599999997]}, \\\"id\\\": \\\"69\\\"}, {\\\"name\\\": \\\"Clongowes\\\", \\\"lineNo\\\": 40491, \\\"percentNarrative\\\": 0.6252614455031373, \\\"longitude\\\": -6.275034, \\\"latitude\\\": 53.348746, \\\"type\\\": \\\"Feature\\\", \\\"geometry\\\": {\\\"type\\\": \\\"Point\\\", \\\"coordinates\\\": [-6.275033999999998, 53.34874599999997]}, \\\"id\\\": \\\"70\\\"}, {\\\"name\\\": \\\"jesuit house in Gardiner Street\\\", \\\"lineNo\\\": 40517, \\\"percentNarrative\\\": 0.6282825935393911, \\\"longitude\\\": -6.259655, \\\"latitude\\\": 53.358, \\\"type\\\": \\\"Feature\\\", \\\"geometry\\\": {\\\"type\\\": \\\"Point\\\", \\\"coordinates\\\": [-6.259655000000002, 53.35799999999998]}, \\\"id\\\": \\\"71\\\"}, {\\\"name\\\": \\\"Tolka\\\", \\\"lineNo\\\": 40541, \\\"percentNarrative\\\": 0.6310713455728562, \\\"longitude\\\": -6.24248, \\\"latitude\\\": 53.361845, \\\"type\\\": \\\"Feature\\\", \\\"geometry\\\": {\\\"type\\\": \\\"Point\\\", \\\"coordinates\\\": [-6.242480000000003, 53.36184499999999]}, \\\"id\\\": \\\"72\\\"}, {\\\"name\\\": \\\"Clontarf Chapel\\\", \\\"lineNo\\\": 40608, \\\"percentNarrative\\\": 0.6388566116662794, \\\"longitude\\\": -6.201478, \\\"latitude\\\": 53.364179, \\\"type\\\": \\\"Feature\\\", \\\"geometry\\\": {\\\"type\\\": \\\"Point\\\", \\\"coordinates\\\": [-6.201477999999987, 53.36417899999999]}, \\\"id\\\": \\\"73\\\"}, {\\\"name\\\": \\\"university\\\", \\\"lineNo\\\": 40614, \\\"percentNarrative\\\": 0.6395537996746457, \\\"longitude\\\": -6.225058, \\\"latitude\\\": 53.310485, \\\"type\\\": \\\"Feature\\\", \\\"geometry\\\": {\\\"type\\\": \\\"Point\\\", \\\"coordinates\\\": [-6.225057999999994, 53.310484999999986]}, \\\"id\\\": \\\"74\\\"}, {\\\"name\\\": \\\"the Bull\\\", \\\"lineNo\\\": 40617, \\\"percentNarrative\\\": 0.6399023936788287, \\\"longitude\\\": -6.179831, \\\"latitude\\\": 53.359381, \\\"type\\\": \\\"Feature\\\", \\\"geometry\\\": {\\\"type\\\": \\\"Point\\\", \\\"coordinates\\\": [-6.17983099999999, 53.359381000000006]}, \\\"id\\\": \\\"75\\\"}, {\\\"name\\\": \\\"Dollymount\\\", \\\"lineNo\\\": 40657, \\\"percentNarrative\\\": 0.6445503137346038, \\\"longitude\\\": -6.174239, \\\"latitude\\\": 53.365979, \\\"type\\\": \\\"Feature\\\", \\\"geometry\\\": {\\\"type\\\": \\\"Point\\\", \\\"coordinates\\\": [-6.174238999999991, 53.36597899999998]}, \\\"id\\\": \\\"76\\\"}, {\\\"name\\\": \\\"Bull\\\", \\\"lineNo\\\": 40660, \\\"percentNarrative\\\": 0.6448989077387869, \\\"longitude\\\": -6.147334, \\\"latitude\\\": 53.369769, \\\"type\\\": \\\"Feature\\\", \\\"geometry\\\": {\\\"type\\\": \\\"Point\\\", \\\"coordinates\\\": [-6.147333999999992, 53.369768999999984]}, \\\"id\\\": \\\"77\\\"}, {\\\"name\\\": \\\"Irish Sea\\\", \\\"lineNo\\\": 40724, \\\"percentNarrative\\\": 0.6523355798280269, \\\"longitude\\\": -5.32, \\\"latitude\\\": 53.13, \\\"type\\\": \\\"Feature\\\", \\\"geometry\\\": {\\\"type\\\": \\\"Point\\\", \\\"coordinates\\\": [-5.32, 53.129999999999995]}, \\\"id\\\": \\\"78\\\"}, {\\\"name\\\": \\\"Howth\\\", \\\"lineNo\\\": 40822, \\\"percentNarrative\\\": 0.6637229839646758, \\\"longitude\\\": -6.057013, \\\"latitude\\\": 53.378569, \\\"type\\\": \\\"Feature\\\", \\\"geometry\\\": {\\\"type\\\": \\\"Point\\\", \\\"coordinates\\\": [-6.057013, 53.378569]}, \\\"id\\\": \\\"80\\\"}, {\\\"name\\\": \\\"strand\\\", \\\"lineNo\\\": 40835, \\\"percentNarrative\\\": 0.6652335579828027, \\\"longitude\\\": -6.147804, \\\"latitude\\\": 53.366498, \\\"type\\\": \\\"Feature\\\", \\\"geometry\\\": {\\\"type\\\": \\\"Point\\\", \\\"coordinates\\\": [-6.147803999999992, 53.366498]}, \\\"id\\\": \\\"81\\\"}, {\\\"name\\\": \\\"strand\\\", \\\"lineNo\\\": 40878, \\\"percentNarrative\\\": 0.6702300720427609, \\\"longitude\\\": -6.147804, \\\"latitude\\\": 53.366498, \\\"type\\\": \\\"Feature\\\", \\\"geometry\\\": {\\\"type\\\": \\\"Point\\\", \\\"coordinates\\\": [-6.147803999999992, 53.366498]}, \\\"id\\\": \\\"82\\\"}, {\\\"name\\\": \\\"Clongowes\\\", \\\"lineNo\\\": 50005, \\\"percentNarrative\\\": 0.6759237741110853, \\\"longitude\\\": -6.695541, \\\"latitude\\\": 53.310601, \\\"type\\\": \\\"Feature\\\", \\\"geometry\\\": {\\\"type\\\": \\\"Point\\\", \\\"coordinates\\\": [-6.695540999999992, 53.310601]}, \\\"id\\\": \\\"83\\\"}, {\\\"name\\\": \\\"nuns' madhouse\\\", \\\"lineNo\\\": 50057, \\\"percentNarrative\\\": 0.6819660701835928, \\\"longitude\\\": -6.244879, \\\"latitude\\\": 53.364283, \\\"type\\\": \\\"Feature\\\", \\\"geometry\\\": {\\\"type\\\": \\\"Point\\\", \\\"coordinates\\\": [-6.244878999999998, 53.36428299999999]}, \\\"id\\\": \\\"84\\\"}, {\\\"name\\\": \\\"the city\\\", \\\"lineNo\\\": 50075, \\\"percentNarrative\\\": 0.6840576342086916, \\\"longitude\\\": -6.270676, \\\"latitude\\\": 53.36315, \\\"type\\\": \\\"Feature\\\", \\\"geometry\\\": {\\\"type\\\": \\\"Point\\\", \\\"coordinates\\\": [-6.270675999999993, 53.36315]}, \\\"id\\\": \\\"85\\\"}, {\\\"name\\\": \\\"the North Strand Road\\\", \\\"lineNo\\\": 50078, \\\"percentNarrative\\\": 0.6844062282128748, \\\"longitude\\\": -6.242725, \\\"latitude\\\": 53.357548, \\\"type\\\": \\\"Feature\\\", \\\"geometry\\\": {\\\"type\\\": \\\"Point\\\", \\\"coordinates\\\": [-6.2427250000000045, 53.357548000000016]}, \\\"id\\\": \\\"86\\\"}, {\\\"name\\\": \\\"Talbot Place\\\", \\\"lineNo\\\": 50081, \\\"percentNarrative\\\": 0.6847548222170579, \\\"longitude\\\": -6.251694, \\\"latitude\\\": 53.350416, \\\"type\\\": \\\"Feature\\\", \\\"geometry\\\": {\\\"type\\\": \\\"Point\\\", \\\"coordinates\\\": [-6.251693999999998, 53.350416]}, \\\"id\\\": \\\"87\\\"}, {\\\"name\\\": \\\"Hopkins' corner\\\", \\\"lineNo\\\": 50123, \\\"percentNarrative\\\": 0.6896351382756216, \\\"longitude\\\": -6.260779, \\\"latitude\\\": 53.351242, \\\"type\\\": \\\"Feature\\\", \\\"geometry\\\": {\\\"type\\\": \\\"Point\\\", \\\"coordinates\\\": [-6.260778999999994, 53.351242000000006]}, \\\"id\\\": \\\"88\\\"}, {\\\"name\\\": \\\"of Trinity\\\", \\\"lineNo\\\": 50212, \\\"percentNarrative\\\": 0.6999767603997211, \\\"longitude\\\": -6.25769, \\\"latitude\\\": 53.345478, \\\"type\\\": \\\"Feature\\\", \\\"geometry\\\": {\\\"type\\\": \\\"Point\\\", \\\"coordinates\\\": [-6.257689999999993, 53.345478]}, \\\"id\\\": \\\"89\\\"}, {\\\"name\\\": \\\"Grantham Street\\\", \\\"lineNo\\\": 50230, \\\"percentNarrative\\\": 0.7020683244248199, \\\"longitude\\\": -6.266592, \\\"latitude\\\": 53.334106, \\\"type\\\": \\\"Feature\\\", \\\"geometry\\\": {\\\"type\\\": \\\"Point\\\", \\\"coordinates\\\": [-6.266592000000001, 53.334105999999984]}, \\\"id\\\": \\\"90\\\"}, {\\\"name\\\": \\\"Butte- vant\\\", \\\"lineNo\\\": 50279, \\\"percentNarrative\\\": 0.7077620264931443, \\\"longitude\\\": -8.670125, \\\"latitude\\\": 52.232134, \\\"type\\\": \\\"Feature\\\", \\\"geometry\\\": {\\\"type\\\": \\\"Point\\\", \\\"coordinates\\\": [-8.670125000000004, 52.232133999999995]}, \\\"id\\\": \\\"92\\\"}, {\\\"name\\\": \\\"Ballyhoura hills\\\", \\\"lineNo\\\": 50299, \\\"percentNarrative\\\": 0.7100859865210318, \\\"longitude\\\": -8.538611, \\\"latitude\\\": 52.303056, \\\"type\\\": \\\"Feature\\\", \\\"geometry\\\": {\\\"type\\\": \\\"Point\\\", \\\"coordinates\\\": [-8.538611000000007, 52.303056]}, \\\"id\\\": \\\"93\\\"}, {\\\"name\\\": \\\"Kilmallock\\\", \\\"lineNo\\\": 50300, \\\"percentNarrative\\\": 0.7102021845224262, \\\"longitude\\\": -8.575387, \\\"latitude\\\": 52.399821, \\\"type\\\": \\\"Feature\\\", \\\"geometry\\\": {\\\"type\\\": \\\"Point\\\", \\\"coordinates\\\": [-8.575387000000005, 52.39982099999998]}, \\\"id\\\": \\\"94\\\"}, {\\\"name\\\": \\\"Queenstown\\\", \\\"lineNo\\\": 50318, \\\"percentNarrative\\\": 0.712293748547525, \\\"longitude\\\": -6.092767, \\\"latitude\\\": 53.273188, \\\"type\\\": \\\"Feature\\\", \\\"geometry\\\": {\\\"type\\\": \\\"Point\\\", \\\"coordinates\\\": [-6.092767000000002, 53.273188000000005]}, \\\"id\\\": \\\"95\\\"}, {\\\"name\\\": \\\"Clane\\\", \\\"lineNo\\\": 50330, \\\"percentNarrative\\\": 0.7136881245642575, \\\"longitude\\\": -6.68704, \\\"latitude\\\": 53.293785, \\\"type\\\": \\\"Feature\\\", \\\"geometry\\\": {\\\"type\\\": \\\"Point\\\", \\\"coordinates\\\": [-6.687039999999992, 53.293784999999986]}, \\\"id\\\": \\\"96\\\"}, {\\\"name\\\": \\\"Grafton Street\\\", \\\"lineNo\\\": 50353, \\\"percentNarrative\\\": 0.7163606785963281, \\\"longitude\\\": -6.259747, \\\"latitude\\\": 53.3423, \\\"type\\\": \\\"Feature\\\", \\\"geometry\\\": {\\\"type\\\": \\\"Point\\\", \\\"coordinates\\\": [-6.25974700000001, 53.34229999999999]}, \\\"id\\\": \\\"97\\\"}, {\\\"name\\\": \\\"Stephen's Green\\\", \\\"lineNo\\\": 50362, \\\"percentNarrative\\\": 0.7174064606088775, \\\"longitude\\\": -6.259119, \\\"latitude\\\": 53.338174, \\\"type\\\": \\\"Feature\\\", \\\"geometry\\\": {\\\"type\\\": \\\"Point\\\", \\\"coordinates\\\": [-6.259118999999995, 53.33817399999999]}, \\\"id\\\": \\\"98\\\"}, {\\\"name\\\": \\\"cliffs of Moher\\\", \\\"lineNo\\\": 50458, \\\"percentNarrative\\\": 0.7285614687427376, \\\"longitude\\\": -7.94351, \\\"latitude\\\": 53.54524, \\\"type\\\": \\\"Feature\\\", \\\"geometry\\\": {\\\"type\\\": \\\"Point\\\", \\\"coordinates\\\": [-7.943510000000001, 53.54524000000001]}, \\\"id\\\": \\\"99\\\"}, {\\\"name\\\": \\\"Lower Drumcondra\\\", \\\"lineNo\\\": 50519, \\\"percentNarrative\\\": 0.7356495468277946, \\\"longitude\\\": -6.256734, \\\"latitude\\\": 53.364757, \\\"type\\\": \\\"Feature\\\", \\\"geometry\\\": {\\\"type\\\": \\\"Point\\\", \\\"coordinates\\\": [-6.256734000000003, 53.36475699999999]}, \\\"id\\\": \\\"100\\\"}, {\\\"name\\\": \\\"Leopardstown\\\", \\\"lineNo\\\": 50610, \\\"percentNarrative\\\": 0.7462235649546828, \\\"longitude\\\": -6.198408, \\\"latitude\\\": 53.267776, \\\"type\\\": \\\"Feature\\\", \\\"geometry\\\": {\\\"type\\\": \\\"Point\\\", \\\"coordinates\\\": [-6.198408000000011, 53.267775999999984]}, \\\"id\\\": \\\"102\\\"}, {\\\"name\\\": \\\"Ulster\\\", \\\"lineNo\\\": 50685, \\\"percentNarrative\\\": 0.754938415059261, \\\"longitude\\\": -7.02425, \\\"latitude\\\": 54.407332, \\\"type\\\": \\\"Feature\\\", \\\"geometry\\\": {\\\"type\\\": \\\"Point\\\", \\\"coordinates\\\": [-7.0242500000000065, 54.407332000000004]}, \\\"id\\\": \\\"103\\\"}, {\\\"name\\\": \\\"Belfast\\\", \\\"lineNo\\\": 50697, \\\"percentNarrative\\\": 0.7563327910759935, \\\"longitude\\\": -5.93012, \\\"latitude\\\": 54.597285, \\\"type\\\": \\\"Feature\\\", \\\"geometry\\\": {\\\"type\\\": \\\"Point\\\", \\\"coordinates\\\": [-5.930120000000003, 54.59728499999997]}, \\\"id\\\": \\\"104\\\"}, {\\\"name\\\": \\\"Wicklow\\\", \\\"lineNo\\\": 50771, \\\"percentNarrative\\\": 0.7649314431791773, \\\"longitude\\\": -6.048263, \\\"latitude\\\": 52.979861, \\\"type\\\": \\\"Feature\\\", \\\"geometry\\\": {\\\"type\\\": \\\"Point\\\", \\\"coordinates\\\": [-6.0482630000000075, 52.97986099999999]}, \\\"id\\\": \\\"105\\\"}, {\\\"name\\\": \\\"Museum\\\", \\\"lineNo\\\": 51116, \\\"percentNarrative\\\": 0.805019753660237, \\\"longitude\\\": -6.252188, \\\"latitude\\\": 53.339706, \\\"type\\\": \\\"Feature\\\", \\\"geometry\\\": {\\\"type\\\": \\\"Point\\\", \\\"coordinates\\\": [-6.252187999999993, 53.33970599999999]}, \\\"id\\\": \\\"108\\\"}, {\\\"name\\\": \\\"canal bridge\\\", \\\"lineNo\\\": 51170, \\\"percentNarrative\\\": 0.8112944457355333, \\\"longitude\\\": -6.238434, \\\"latitude\\\": 53.342399, \\\"type\\\": \\\"Feature\\\", \\\"geometry\\\": {\\\"type\\\": \\\"Point\\\", \\\"coordinates\\\": [-6.23843400000001, 53.34239900000001]}, \\\"id\\\": \\\"109\\\"}, {\\\"name\\\": \\\"sir Patrick Dun's hospital\\\", \\\"lineNo\\\": 51248, \\\"percentNarrative\\\": 0.8203578898442947, \\\"longitude\\\": -6.241523, \\\"latitude\\\": 53.339029, \\\"type\\\": \\\"Feature\\\", \\\"geometry\\\": {\\\"type\\\": \\\"Point\\\", \\\"coordinates\\\": [-6.24152300000001, 53.33902899999999]}, \\\"id\\\": \\\"110\\\"}, {\\\"name\\\": \\\"Lower Mount Street\\\", \\\"lineNo\\\": 51291, \\\"percentNarrative\\\": 0.8253544039042529, \\\"longitude\\\": -6.243389, \\\"latitude\\\": 53.338573, \\\"type\\\": \\\"Feature\\\", \\\"geometry\\\": {\\\"type\\\": \\\"Point\\\", \\\"coordinates\\\": [-6.24338900000001, 53.33857299999999]}, \\\"id\\\": \\\"111\\\"}, {\\\"name\\\": \\\"Glenmalure\\\", \\\"lineNo\\\": 51316, \\\"percentNarrative\\\": 0.8282593539391122, \\\"longitude\\\": -6.35437, \\\"latitude\\\": 52.95772, \\\"type\\\": \\\"Feature\\\", \\\"geometry\\\": {\\\"type\\\": \\\"Point\\\", \\\"coordinates\\\": [-6.354369999999988, 52.95772]}, \\\"id\\\": \\\"112\\\"}, {\\\"name\\\": \\\"Merrion Square\\\", \\\"lineNo\\\": 51340, \\\"percentNarrative\\\": 0.8310481059725773, \\\"longitude\\\": -6.249165, \\\"latitude\\\": 53.339658, \\\"type\\\": \\\"Feature\\\", \\\"geometry\\\": {\\\"type\\\": \\\"Point\\\", \\\"coordinates\\\": [-6.249164999999999, 53.339658]}, \\\"id\\\": \\\"113\\\"}, {\\\"name\\\": \\\"the national library\\\", \\\"lineNo\\\": 51472, \\\"percentNarrative\\\": 0.8463862421566349, \\\"longitude\\\": -6.254893, \\\"latitude\\\": 53.341522, \\\"type\\\": \\\"Feature\\\", \\\"geometry\\\": {\\\"type\\\": \\\"Point\\\", \\\"coordinates\\\": [-6.254893000000001, 53.341522]}, \\\"id\\\": \\\"114\\\"}, {\\\"name\\\": \\\"Kildare house\\\", \\\"lineNo\\\": 51479, \\\"percentNarrative\\\": 0.8471996281663955, \\\"longitude\\\": -6.258382, \\\"latitude\\\": 53.340762, \\\"type\\\": \\\"Feature\\\", \\\"geometry\\\": {\\\"type\\\": \\\"Point\\\", \\\"coordinates\\\": [-6.258382000000006, 53.340762]}, \\\"id\\\": \\\"115\\\"}, {\\\"name\\\": \\\"Cork Hill\\\", \\\"lineNo\\\": 51654, \\\"percentNarrative\\\": 0.8675342784104113, \\\"longitude\\\": -6.267562, \\\"latitude\\\": 53.343835, \\\"type\\\": \\\"Feature\\\", \\\"geometry\\\": {\\\"type\\\": \\\"Point\\\", \\\"coordinates\\\": [-6.2675619999999945, 53.343835]}, \\\"id\\\": \\\"117\\\"}, {\\\"name\\\": \\\"Moycullen\\\", \\\"lineNo\\\": 51674, \\\"percentNarrative\\\": 0.8698582384382989, \\\"longitude\\\": -9.181478, \\\"latitude\\\": 53.338748, \\\"type\\\": \\\"Feature\\\", \\\"geometry\\\": {\\\"type\\\": \\\"Point\\\", \\\"coordinates\\\": [-9.181478000000004, 53.33874799999998]}, \\\"id\\\": \\\"118\\\"}, {\\\"name\\\": \\\"Molesworth\\\", \\\"lineNo\\\": 51771, \\\"percentNarrative\\\": 0.8811294445735534, \\\"longitude\\\": -6.257636, \\\"latitude\\\": 53.340809, \\\"type\\\": \\\"Feature\\\", \\\"geometry\\\": {\\\"type\\\": \\\"Point\\\", \\\"coordinates\\\": [-6.257636000000008, 53.340809]}, \\\"id\\\": \\\"119\\\"}, {\\\"name\\\": \\\"Bantry\\\", \\\"lineNo\\\": 51936, \\\"percentNarrative\\\": 0.9003021148036254, \\\"longitude\\\": -9.452576, \\\"latitude\\\": 51.68008, \\\"type\\\": \\\"Feature\\\", \\\"geometry\\\": {\\\"type\\\": \\\"Point\\\", \\\"coordinates\\\": [-9.452576000000004, 51.68007999999999]}, \\\"id\\\": \\\"121\\\"}, {\\\"name\\\": \\\"Malahide\\\", \\\"lineNo\\\": 52063, \\\"percentNarrative\\\": 0.9150592609807111, \\\"longitude\\\": -6.150138, \\\"latitude\\\": 53.450924, \\\"type\\\": \\\"Feature\\\", \\\"geometry\\\": {\\\"type\\\": \\\"Point\\\", \\\"coordinates\\\": [-6.15013800000001, 53.45092399999998]}, \\\"id\\\": \\\"122\\\"}, {\\\"name\\\": \\\"Adelphi hotel\\\", \\\"lineNo\\\": 52254, \\\"percentNarrative\\\": 0.9372530792470369, \\\"longitude\\\": -6.254002, \\\"latitude\\\": 53.35057, \\\"type\\\": \\\"Feature\\\", \\\"geometry\\\": {\\\"type\\\": \\\"Point\\\", \\\"coordinates\\\": [-6.25400199999999, 53.35057]}, \\\"id\\\": \\\"124\\\"}, {\\\"name\\\": \\\"Pembroke\\\", \\\"lineNo\\\": 52470, \\\"percentNarrative\\\": 0.9623518475482221, \\\"longitude\\\": -8.347738, \\\"latitude\\\": 51.87362, \\\"type\\\": \\\"Feature\\\", \\\"geometry\\\": {\\\"type\\\": \\\"Point\\\", \\\"coordinates\\\": [-8.347738, 51.873619999999974]}, \\\"id\\\": \\\"125\\\"}, {\\\"name\\\": \\\"Har- court Street station\\\", \\\"lineNo\\\": 52530, \\\"percentNarrative\\\": 0.9693237276318847, \\\"longitude\\\": -6.262433, \\\"latitude\\\": 53.333446, \\\"type\\\": \\\"Feature\\\", \\\"geometry\\\": {\\\"type\\\": \\\"Point\\\", \\\"coordinates\\\": [-6.2624329999999935, 53.333445999999995]}, \\\"id\\\": \\\"126\\\"}, {\\\"name\\\": \\\"Sallygap\\\", \\\"lineNo\\\": 52535, \\\"percentNarrative\\\": 0.9699047176388567, \\\"longitude\\\": -6.31, \\\"latitude\\\": 53.1369, \\\"type\\\": \\\"Feature\\\", \\\"geometry\\\": {\\\"type\\\": \\\"Point\\\", \\\"coordinates\\\": [-6.309999999999988, 53.136900000000004]}, \\\"id\\\": \\\"127\\\"}, {\\\"name\\\": \\\"Leeson Park\\\", \\\"lineNo\\\": 52582, \\\"percentNarrative\\\": 0.9753660237043923, \\\"longitude\\\": -6.251897, \\\"latitude\\\": 53.328562, \\\"type\\\": \\\"Feature\\\", \\\"geometry\\\": {\\\"type\\\": \\\"Point\\\", \\\"coordinates\\\": [-6.251896999999987, 53.32856199999999]}, \\\"id\\\": \\\"128\\\"}, {\\\"name\\\": \\\"my green\\\", \\\"lineNo\\\": 52657, \\\"percentNarrative\\\": 0.9840808738089705, \\\"longitude\\\": -6.259119, \\\"latitude\\\": 53.338174, \\\"type\\\": \\\"Feature\\\", \\\"geometry\\\": {\\\"type\\\": \\\"Point\\\", \\\"coordinates\\\": [-6.259118999999995, 53.33817399999999]}, \\\"id\\\": \\\"129\\\"}, {\\\"name\\\": \\\"Rotunda\\\", \\\"lineNo\\\": 52668, \\\"percentNarrative\\\": 0.9853590518243086, \\\"longitude\\\": -6.262135, \\\"latitude\\\": 53.353368, \\\"type\\\": \\\"Feature\\\", \\\"geometry\\\": {\\\"type\\\": \\\"Point\\\", \\\"coordinates\\\": [-6.262135000000012, 53.35336799999999]}, \\\"id\\\": \\\"130\\\"}, {\\\"name\\\": \\\"Wicklow\\\", \\\"lineNo\\\": 52698, \\\"percentNarrative\\\": 0.9888449918661399, \\\"longitude\\\": -6.048263, \\\"latitude\\\": 52.979861, \\\"type\\\": \\\"Feature\\\", \\\"geometry\\\": {\\\"type\\\": \\\"Point\\\", \\\"coordinates\\\": [-6.0482630000000075, 52.97986099999999]}, \\\"id\\\": \\\"131\\\"}, {\\\"name\\\": \\\"cigar shop opposite Findlater's church\\\", \\\"lineNo\\\": 52700, \\\"percentNarrative\\\": 0.9890773878689286, \\\"longitude\\\": -6.261749, \\\"latitude\\\": 53.353437, \\\"type\\\": \\\"Feature\\\", \\\"geometry\\\": {\\\"type\\\": \\\"Point\\\", \\\"coordinates\\\": [-6.261749000000012, 53.35343699999998]}, \\\"id\\\": \\\"132\\\"}, {\\\"name\\\": \\\"Tara\\\", \\\"lineNo\\\": 52703, \\\"percentNarrative\\\": 0.9894259818731118, \\\"longitude\\\": -8.24389, \\\"latitude\\\": 53.41291, \\\"type\\\": \\\"Feature\\\", \\\"geometry\\\": {\\\"type\\\": \\\"Point\\\", \\\"coordinates\\\": [-8.243890000000007, 53.412909999999975]}, \\\"id\\\": \\\"133\\\"}, {\\\"name\\\": \\\"Grafton Street\\\", \\\"lineNo\\\": 52758, \\\"percentNarrative\\\": 0.9958168719498025, \\\"longitude\\\": -6.259573, \\\"latitude\\\": 53.342556, \\\"type\\\": \\\"Feature\\\", \\\"geometry\\\": {\\\"type\\\": \\\"Point\\\", \\\"coordinates\\\": [-6.259573000000008, 53.34255599999998]}, \\\"id\\\": \\\"135\\\"}, {\\\"name\\\": \\\"Dublin\\\", \\\"lineNo\\\": 52793, \\\"percentNarrative\\\": 0.9998838019986056, \\\"longitude\\\": -6.259573, \\\"latitude\\\": 53.342556, \\\"type\\\": \\\"Feature\\\", \\\"geometry\\\": {\\\"type\\\": \\\"Point\\\", \\\"coordinates\\\": [-6.259573000000008, 53.34255599999998]}, \\\"id\\\": \\\"136\\\"}]\"}};\n",
       "var opt = {};\n",
       "var type = \"vega-lite\";\n",
       "var id = \"2272e99e-99db-4147-9834-575743b4efa0\";\n",
       "\n",
       "var output_area = this;\n",
       "\n",
       "require([\"nbextensions/jupyter-vega/index\"], function(vega) {\n",
       "  var target = document.createElement(\"div\");\n",
       "  target.id = id;\n",
       "  target.className = \"vega-embed\";\n",
       "\n",
       "  var style = document.createElement(\"style\");\n",
       "  style.textContent = [\n",
       "    \".vega-embed .error p {\",\n",
       "    \"  color: firebrick;\",\n",
       "    \"  font-size: 14px;\",\n",
       "    \"}\",\n",
       "  ].join(\"\\\\n\");\n",
       "\n",
       "  // element is a jQuery wrapped DOM element inside the output area\n",
       "  // see http://ipython.readthedocs.io/en/stable/api/generated/\\\n",
       "  // IPython.display.html#IPython.display.Javascript.__init__\n",
       "  element[0].appendChild(target);\n",
       "  element[0].appendChild(style);\n",
       "\n",
       "  vega.render(\"#\" + id, spec, type, opt, output_area);\n",
       "}, function (err) {\n",
       "  if (err.requireType !== \"scripterror\") {\n",
       "    throw(err);\n",
       "  }\n",
       "});\n"
      ],
      "text/plain": [
       "<vega.vegalite.VegaLite at 0x7ffb6cc5cef0>"
      ]
     },
     "metadata": {
      "jupyter-vega": "#2272e99e-99db-4147-9834-575743b4efa0"
     },
     "output_type": "display_data"
    },
    {
     "data": {
      "text/plain": []
     },
     "execution_count": 28,
     "metadata": {},
     "output_type": "execute_result"
    },
    {
     "data": {
      "image/png": "[encoded data removed]"
     },
     "metadata": {
      "jupyter-vega": "#2272e99e-99db-4147-9834-575743b4efa0"
     },
     "output_type": "display_data"
    }
   ],
   "source": [
    "(base + points)"
   ]
  }
 ],
 "metadata": {
  "kernelspec": {
   "display_name": "Python 3",
   "language": "python",
   "name": "python3"
  },
  "language_info": {
   "codemirror_mode": {
    "name": "ipython",
    "version": 3
   },
   "file_extension": ".py",
   "mimetype": "text/x-python",
   "name": "python",
   "nbconvert_exporter": "python",
   "pygments_lexer": "ipython3",
   "version": "3.7.3"
  }
 },
 "nbformat": 4,
 "nbformat_minor": 2
}
